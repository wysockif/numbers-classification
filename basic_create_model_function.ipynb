{
 "cells": [
  {
   "cell_type": "code",
   "execution_count": 56,
   "metadata": {},
   "outputs": [],
   "source": [
    "import tensorflow.keras as keras\n",
    "import tensorflow as tf\n",
    "import time\n",
    "import numpy"
   ]
  },
  {
   "cell_type": "code",
   "execution_count": 28,
   "metadata": {},
   "outputs": [],
   "source": [
    "# https://pythonprogramming.net/introduction-deep-learning-python-tensorflow-keras/\n",
    "def create_model(activation=tf.nn.relu,neuron = 128,layer = 2,optimizer='adam',loss='sparse_categorical_crossentropy',metrics=['accuracy'],epochs=3):\n",
    "    mnist = tf.keras.datasets.mnist\n",
    "    (x_train, y_train),(x_test, y_test) = mnist.load_data()\n",
    "    x_train = tf.keras.utils.normalize(x_train, axis=1)\n",
    "    x_test = tf.keras.utils.normalize(x_test, axis=1)\n",
    "\n",
    "    model = tf.keras.models.Sequential()  # a basic feed-forward model\n",
    "    model.add(tf.keras.layers.Flatten())  # takes our 28x28 and makes it 1x784\n",
    "\n",
    "    for i in range(0,layer):\n",
    "        model.add(tf.keras.layers.Dense(neuron, activation=activation))  # a simple fully-connected layer, 128 units, relu activation\n",
    "\n",
    "    model.add(tf.keras.layers.Dense(10, activation=tf.nn.softmax))  # our output layer. 10 units for 10 classes. Softmax for probability distribution\n",
    "    \n",
    "    model.compile(optimizer=optimizer,  # Good default optimizer to start with\n",
    "              loss = loss,  # how will we calculate our \"error.\" Neural network aims to minimize loss.\n",
    "              metrics= metrics)  # what to track\n",
    "\n",
    "    print('Trenuję: ')\n",
    "    start = time.time()\n",
    "\n",
    "    model.fit(x_train, y_train, epochs=epochs)  # train the model\n",
    "\n",
    "    end = time.time()\n",
    "    training_time = end - start\n",
    "\n",
    "    print('\\n Weryfikuję: ')\n",
    "    val_loss_test, val_acc_test = model.evaluate(x_test, y_test)  # evaluate the out of sample data with model\n",
    "    return val_loss_test, val_acc_test,training_time\n",
    "\n"
   ]
  },
  {
   "cell_type": "code",
   "execution_count": 30,
   "metadata": {},
   "outputs": [
    {
     "output_type": "stream",
     "name": "stdout",
     "text": [
      "Trenuję: \n",
      "Epoch 1/3\n",
      "1257/1257 [==============================] - 2s 1ms/step - loss: 0.5587 - accuracy: 0.8407 - val_loss: 0.1642 - val_accuracy: 0.9485\n",
      "Epoch 2/3\n",
      "1257/1257 [==============================] - 2s 1ms/step - loss: 0.1303 - accuracy: 0.9594 - val_loss: 0.1376 - val_accuracy: 0.9576\n",
      "Epoch 3/3\n",
      "1257/1257 [==============================] - 2s 1ms/step - loss: 0.0821 - accuracy: 0.9736 - val_loss: 0.1143 - val_accuracy: 0.9658\n",
      "dict_keys(['loss', 'accuracy', 'val_loss', 'val_accuracy'])\n",
      "[0.9485379457473755, 0.9576284289360046, 0.96575927734375]\n",
      "\n",
      " Weryfikuję: \n",
      "313/313 [==============================] - 0s 618us/step - loss: 0.1039 - accuracy: 0.9684\n",
      "Trenowanie trwało: 5.453395128250122 sekund\n",
      "Loss dla danych testowych: 0.10394623875617981\n",
      "Accuracy dla danych testowych: 0.9684000015258789\n",
      "Loss dla danych tresnowanych: [0.3095135986804962, 0.12346972525119781, 0.08181087672710419]\n",
      "Accuracy dla danych trenowanych: [0.9103958010673523, 0.962262749671936, 0.9739048480987549]\n"
     ]
    }
   ],
   "source": [
    "val_loss_test, val_acc_test,val_acc_train,val_loss_train, training_time = create_model()\n",
    "print(\"Trenowanie trwało: \" + str(training_time) + \" sekund\")\n",
    "print(\"Loss dla danych testowych: \" + str(val_loss_test))\n",
    "print(\"Accuracy dla danych testowych: \" + str(val_acc_test))\n",
    "print(\"Loss dla danych tresnowanych: \" + str(val_loss_train)) \n",
    "print(\"Accuracy dla danych trenowanych: \" + str(val_acc_train))"
   ]
  },
  {
   "cell_type": "code",
   "execution_count": null,
   "outputs": [],
   "source": [
    "def create_model_with_history_for_all_epochs(activation=tf.nn.relu,neuron = 128,layer = 2,optimizer='adam',loss='sparse_categorical_crossentropy',metrics=['accuracy'],epochs=3):\n",
    "    mnist = tf.keras.datasets.mnist\n",
    "\n",
    "    (x_train, y_train),(x_test, y_test) = mnist.load_data()\n",
    "    x_train = tf.keras.utils.normalize(x_train, axis=1)\n",
    "    x_test = tf.keras.utils.normalize(x_test, axis=1)\n",
    " \n",
    "    model = tf.keras.models.Sequential()  # a basic feed-forward model\n",
    "    model.add(tf.keras.layers.Flatten())  # takes our 28x28 and makes it 1x784\n",
    "\n",
    "    for i in range(0,layer):\n",
    "        model.add(tf.keras.layers.Dense(neuron, activation=activation))  # a simple fully-connected layer, 128 units, relu activation\n",
    "\n",
    "    model.add(tf.keras.layers.Dense(10, activation=tf.nn.softmax))  # our output layer. 10 units for 10 classes. Softmax for probability distribution\n",
    "    \n",
    "    model.compile(optimizer=optimizer,  # Good default optimizer to start with\n",
    "              loss = loss,  # how will we calculate our \"error.\" Neural network aims to minimize loss.\n",
    "              metrics= metrics)  # what to track\n",
    "\n",
    "    print('Trenuję: ')\n",
    "    val_loss = list()\n",
    "    val_acc = list()\n",
    "    loss = list()\n",
    "    acc = list()\n",
    "    trains_time = list()\n",
    "\n",
    "    for i in range(0,epochs):\n",
    "        start = time.time()\n",
    "\n",
    "        history = model.fit(x_train,y_train)# verbose=0 aby nie wyswietlało \n",
    "        \n",
    "        trains_time.append(time.time() - start)\n",
    "        \n",
    "        val_loss_ep, val_acc_ep = model.evaluate(x_test, y_test)\n",
    "        \n",
    "        val_acc.append(val_acc_ep)\n",
    "        val_loss.append(val_loss_ep)\n",
    "        loss.append(history.history['loss'][-1])\n",
    "        acc.append(history.history['accuracy'][-1])\n",
    "        \n",
    "    \n",
    "\n",
    "    return val_loss,val_acc,loss,acc, trains_time"
   ],
   "metadata": {
    "collapsed": false,
    "pycharm": {
     "name": "#%%\n"
    }
   }
  },
  {
   "cell_type": "code",
   "execution_count": null,
   "outputs": [],
   "source": [
    "val_loss, val_acc,loss,acc, training_time = create_model_with_history_for_all_epochs()\n",
    "print(\"Trenowanie trwało: \" + str(training_time) + \" sekund\")\n",
    "print(\"Loss dla danych testowych: \" + str(val_loss))\n",
    "print(\"Accuracy dla danych testowych: \" + str(val_acc))\n",
    "print(\"Loss dla danych tresnowanych: \" + str(loss)) \n",
    "print(\"Accuracy dla danych trenowanych: \" + str(acc))"
   ],
   "metadata": {
    "collapsed": false,
    "pycharm": {
     "name": "#%%\n"
    }
   }
  },
  {
   "cell_type": "code",
   "execution_count": 98,
   "metadata": {},
   "outputs": [],
   "source": []
  },
  {
   "cell_type": "code",
   "execution_count": 99,
   "metadata": {},
   "outputs": [
    {
     "output_type": "stream",
     "name": "stdout",
     "text": [
      "Trenuję: \n",
      "1875/1875 [==============================] - 2s 1ms/step - loss: 0.4732 - accuracy: 0.8680\n",
      "313/313 [==============================] - 0s 644us/step - loss: 0.1334 - accuracy: 0.9583\n",
      "1875/1875 [==============================] - 2s 1ms/step - loss: 0.1078 - accuracy: 0.9673\n",
      "313/313 [==============================] - 0s 651us/step - loss: 0.1002 - accuracy: 0.9691\n",
      "1875/1875 [==============================] - 2s 1ms/step - loss: 0.0733 - accuracy: 0.9771\n",
      "313/313 [==============================] - 0s 661us/step - loss: 0.0969 - accuracy: 0.9696\n",
      "Trenowanie trwało: [2.3215200901031494, 2.140134572982788, 2.0412282943725586] sekund\n",
      "Loss dla danych testowych: [0.1333930343389511, 0.10023326426744461, 0.09691884368658066]\n",
      "Accuracy dla danych testowych: [0.958299994468689, 0.9690999984741211, 0.9696000218391418]\n",
      "Loss dla danych tresnowanych: [0.26658228039741516, 0.10781527310609818, 0.0732649713754654]\n",
      "Accuracy dla danych trenowanych: [0.9225833415985107, 0.9672666788101196, 0.977066695690155]\n"
     ]
    }
   ],
   "source": [
    "val_loss, val_acc,loss,acc, training_time = create_model_with_history_for_all_epochs()\n",
    "print(\"Trenowanie trwało: \" + str(training_time) + \" sekund\")\n",
    "print(\"Loss dla danych testowych: \" + str(val_loss))\n",
    "print(\"Accuracy dla danych testowych: \" + str(val_acc))\n",
    "print(\"Loss dla danych tresnowanych: \" + str(loss)) \n",
    "print(\"Accuracy dla danych trenowanych: \" + str(acc))"
   ]
  },
  {
   "cell_type": "code",
   "execution_count": null,
   "metadata": {},
   "outputs": [],
   "source": []
  }
 ],
 "metadata": {
  "anaconda-cloud": {},
  "kernelspec": {
   "display_name": "Python 3",
   "language": "python",
   "name": "python3"
  },
  "language_info": {
   "codemirror_mode": {
    "name": "ipython",
    "version": 3
   },
   "file_extension": ".py",
   "mimetype": "text/x-python",
   "name": "python",
   "nbconvert_exporter": "python",
   "pygments_lexer": "ipython3",
   "version": "3.8.3-final"
  }
 },
 "nbformat": 4,
 "nbformat_minor": 4
}