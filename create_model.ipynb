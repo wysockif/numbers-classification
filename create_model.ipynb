{
 "cells": [
  {
   "cell_type": "code",
   "execution_count": 14,
   "metadata": {},
   "outputs": [],
   "source": [
    "# https://pythonprogramming.net/introduction-deep-learning-python-tensorflow-keras/\n",
    "import tensorflow.keras as keras\n",
    "import tensorflow as tf\n",
    "\n",
    "def create_model(activation=tf.nn.relu,neuron = 128,layer = 2,optimizer='adam',loss='sparse_categorical_crossentropy',metrics=['accuracy'],epochs=3):\n",
    "    mnist = tf.keras.datasets.mnist\n",
    "    (x_train, y_train),(x_test, y_test) = mnist.load_data()\n",
    "    x_train = tf.keras.utils.normalize(x_train, axis=1)\n",
    "    x_test = tf.keras.utils.normalize(x_test, axis=1)\n",
    "\n",
    "    model = tf.keras.models.Sequential()  # a basic feed-forward model\n",
    "    model.add(tf.keras.layers.Flatten())  # takes our 28x28 and makes it 1x784\n",
    "\n",
    "    for i in range(0,layer):\n",
    "        print(i)\n",
    "        model.add(tf.keras.layers.Dense(neuron, activation=activation))  # a simple fully-connected layer, 128 units, relu activation\n",
    "\n",
    "    model.add(tf.keras.layers.Dense(10, activation=tf.nn.softmax))  # our output layer. 10 units for 10 classes. Softmax for probability distribution\n",
    "    \n",
    "    model.compile(optimizer=optimizer,  # Good default optimizer to start with\n",
    "              loss = loss,  # how will we calculate our \"error.\" Neural network aims to minimize loss.\n",
    "              metrics= metrics)  # what to track\n",
    "\n",
    "    model.fit(x_train, y_train, epochs=epochs)  # train the model\n",
    "    print('test data')\n",
    "    val_loss, val_acc = model.evaluate(x_test, y_test)  # evaluate the out of sample data with model\n",
    "    return val_loss, val_acc\n",
    "\n"
   ]
  },
  {
   "cell_type": "code",
   "execution_count": 15,
   "metadata": {},
   "outputs": [
    {
     "output_type": "stream",
     "name": "stdout",
     "text": [
      "0\n",
      "1\n",
      "Epoch 1/3\n",
      "1875/1875 [==============================] - 2s 966us/step - loss: 0.4735 - accuracy: 0.8668\n",
      "Epoch 2/3\n",
      "1875/1875 [==============================] - 2s 940us/step - loss: 0.1111 - accuracy: 0.9660\n",
      "Epoch 3/3\n",
      "1875/1875 [==============================] - 2s 942us/step - loss: 0.0708 - accuracy: 0.9782\n",
      "test data\n",
      "313/313 [==============================] - 0s 577us/step - loss: 0.0956 - accuracy: 0.9697\n",
      "0.09558796882629395\n",
      "0.9696999788284302\n"
     ]
    }
   ],
   "source": [
    "val_loss, val_acc = create_model()\n",
    "print(val_loss)\n",
    "print(val_acc)"
   ]
  },
  {
   "cell_type": "code",
   "execution_count": null,
   "metadata": {},
   "outputs": [],
   "source": []
  }
 ],
 "metadata": {
  "anaconda-cloud": {},
  "kernelspec": {
   "display_name": "Python 3",
   "language": "python",
   "name": "python3"
  },
  "language_info": {
   "codemirror_mode": {
    "name": "ipython",
    "version": 3
   },
   "file_extension": ".py",
   "mimetype": "text/x-python",
   "name": "python",
   "nbconvert_exporter": "python",
   "pygments_lexer": "ipython3",
   "version": "3.8.3-final"
  }
 },
 "nbformat": 4,
 "nbformat_minor": 4
}