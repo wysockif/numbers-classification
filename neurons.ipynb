{
 "cells": [
  {
   "cell_type": "code",
   "execution_count": 41,
   "metadata": {},
   "outputs": [],
   "source": [
    "import import_ipynb\n",
    "import basic_create_model_function as al\n",
    "import tensorflow.keras as keras\n",
    "import tensorflow as tf \n",
    "import matplotlib.pyplot as plt\n",
    "import pandas as pd\n",
    "import numpy as np\n",
    "import seaborn as sns\n"
   ]
  },
  {
   "cell_type": "code",
   "execution_count": null,
   "metadata": {},
   "outputs": [],
   "source": []
  },
  {
   "cell_type": "code",
   "execution_count": null,
   "metadata": {},
   "outputs": [],
   "source": [
    "def avarage_create_model_for_different_number_of_neurons_in_layer():\n",
    "    df = pd.DataFrame(columns=['neurons', 'val_loss', 'val_acc', 'loss', 'acc', 'trains_time'])\n",
    "\n",
    "    index = 0\n",
    "    \n",
    "    for i  in range(6):\n",
    "        index_name = 0\n",
    "        for ns in  :\n",
    "            \n",
    "            val_loss, val_acc, loss, acc, trains_time, model = al.create_model_with_history_for_all_epochs(activation= list_activaton_function[index_name],verbose = 0)\n",
    "            \n",
    "            ls = [name_activation_function[index_name],val_loss[-1], val_acc[-1], loss[-1], acc[-1], sum(trains_time)]\n",
    "            \n",
    "            df.loc[index] = ls\n",
    "\n",
    "            index += 1 \n",
    "            index_name += 1 \n",
    "\n",
    "    df_mean = df.groupby(by='activation').mean().reset_index()\n",
    "    return df_mean"
   ]
  }
 ],
 "metadata": {
  "kernelspec": {
   "display_name": "Python 3.8.3 64-bit ('wysoc': virtualenv)",
   "language": "python",
   "name": "python38364bitwysocvirtualenv9e4a190ee59f4fc8960a2c4f2382dc7a"
  },
  "language_info": {
   "codemirror_mode": {
    "name": "ipython",
    "version": 3
   },
   "file_extension": ".py",
   "mimetype": "text/x-python",
   "name": "python",
   "nbconvert_exporter": "python",
   "pygments_lexer": "ipython3",
   "version": "3.8.3"
  }
 },
 "nbformat": 4,
 "nbformat_minor": 4
}
