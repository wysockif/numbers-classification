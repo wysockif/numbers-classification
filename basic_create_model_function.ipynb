{
 "cells": [
  {
   "cell_type": "code",
   "execution_count": 2,
   "metadata": {},
   "outputs": [],
   "source": [
    "import tensorflow.keras as keras\n",
    "import tensorflow as tf\n",
    "import time"
   ]
  },
  {
   "cell_type": "code",
   "execution_count": 10,
   "metadata": {},
   "outputs": [],
   "source": [
    "# https://pythonprogramming.net/introduction-deep-learning-python-tensorflow-keras/\n",
    "def create_model(activation=tf.nn.relu,neuron = 128,layer = 2,optimizer='adam',loss='sparse_categorical_crossentropy',metrics=['accuracy'],epochs=3):\n",
    "    mnist = tf.keras.datasets.mnist\n",
    "    (x_train, y_train),(x_test, y_test) = mnist.load_data()\n",
    "    x_train = tf.keras.utils.normalize(x_train, axis=1)\n",
    "    x_test = tf.keras.utils.normalize(x_test, axis=1)\n",
    "\n",
    "    model = tf.keras.models.Sequential()  # a basic feed-forward model\n",
    "    model.add(tf.keras.layers.Flatten())  # takes our 28x28 and makes it 1x784\n",
    "\n",
    "    for i in range(0,layer):\n",
    "        model.add(tf.keras.layers.Dense(neuron, activation=activation))  # a simple fully-connected layer, 128 units, relu activation\n",
    "\n",
    "    model.add(tf.keras.layers.Dense(10, activation=tf.nn.softmax))  # our output layer. 10 units for 10 classes. Softmax for probability distribution\n",
    "    \n",
    "    model.compile(optimizer=optimizer,  # Good default optimizer to start with\n",
    "              loss = loss,  # how will we calculate our \"error.\" Neural network aims to minimize loss.\n",
    "              metrics= metrics)  # what to track\n",
    "\n",
    "    start = time.time()\n",
    "\n",
    "    print('Trenuję: ')\n",
    "    history = model.fit(x_train, y_train, epochs=epochs)  # train the model\n",
    "\n",
    "    end = time.time()\n",
    "\n",
    "    training_time = end - start\n",
    "\n",
    "    print('\\n Weryfikuję: ')\n",
    "    val_loss_test, val_acc_test = model.evaluate(x_test, y_test)  # evaluate the out of sample data with model\n",
    "    return val_loss_test, val_acc_test,history.history['accuracy'],history.history['loss'], training_time\n",
    "\n"
   ]
  },
  {
   "cell_type": "code",
   "execution_count": 12,
   "metadata": {},
   "outputs": [
    {
     "output_type": "stream",
     "name": "stdout",
     "text": [
      "Trenuję: \n",
      "Epoch 1/3\n",
      "1875/1875 [==============================] - 2s 972us/step - loss: 0.4706 - accuracy: 0.8687\n",
      "Epoch 2/3\n",
      "1875/1875 [==============================] - 2s 962us/step - loss: 0.1148 - accuracy: 0.9650\n",
      "Epoch 3/3\n",
      "1875/1875 [==============================] - 2s 960us/step - loss: 0.0737 - accuracy: 0.9770\n",
      "\n",
      " Weryfikuję: \n",
      "313/313 [==============================] - 0s 601us/step - loss: 0.0900 - accuracy: 0.9719\n",
      "Trenowanie trwało: 5.8254008293151855 sekund\n",
      "Loss dla danych testowych: 0.09003052115440369\n",
      "Accuracy dla danych testowych: 0.9718999862670898\n",
      "Loss dla danych tresnowanych: [0.2628757357597351, 0.1075361892580986, 0.07333873957395554]\n",
      "Accuracy dla danych trenowanych: [0.9243333339691162, 0.9670000076293945, 0.9765666723251343]\n"
     ]
    }
   ],
   "source": [
    "val_loss_test, val_acc_test,val_acc_train,val_loss_train, training_time = create_model()\n",
    "print(\"Trenowanie trwało: \" + str(training_time) + \" sekund\")\n",
    "print(\"Loss dla danych testowych: \" + str(val_loss_test))\n",
    "print(\"Accuracy dla danych testowych: \" + str(val_acc_test))\n",
    "print(\"Loss dla danych tresnowanych: \" + str(val_loss_train)) \n",
    "print(\"Accuracy dla danych trenowanych: \" + str(val_acc_train))"
   ]
  },
  {
   "cell_type": "code",
   "execution_count": null,
   "metadata": {},
   "outputs": [],
   "source": []
  }
 ],
 "metadata": {
  "anaconda-cloud": {},
  "kernelspec": {
   "display_name": "Python 3",
   "language": "python",
   "name": "python3"
  },
  "language_info": {
   "codemirror_mode": {
    "name": "ipython",
    "version": 3
   },
   "file_extension": ".py",
   "mimetype": "text/x-python",
   "name": "python",
   "nbconvert_exporter": "python",
   "pygments_lexer": "ipython3",
   "version": "3.8.3-final"
  }
 },
 "nbformat": 4,
 "nbformat_minor": 4
}