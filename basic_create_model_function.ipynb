{
 "cells": [
  {
   "cell_type": "code",
   "execution_count": 2,
   "metadata": {},
   "outputs": [],
   "source": [
    "import tensorflow.keras as keras\n",
    "import tensorflow as tf\n",
    "import time"
   ]
  },
  {
   "cell_type": "code",
   "execution_count": 3,
   "metadata": {},
   "outputs": [],
   "source": [
    "# https://pythonprogramming.net/introduction-deep-learning-python-tensorflow-keras/\n",
    "def create_model(activation=tf.nn.relu,neuron = 128,layer = 2,optimizer='adam',loss='sparse_categorical_crossentropy',metrics=['accuracy'],epochs=3):\n",
    "    mnist = tf.keras.datasets.mnist\n",
    "    (x_train, y_train),(x_test, y_test) = mnist.load_data()\n",
    "    x_train = tf.keras.utils.normalize(x_train, axis=1)\n",
    "    x_test = tf.keras.utils.normalize(x_test, axis=1)\n",
    "\n",
    "    model = tf.keras.models.Sequential()  # a basic feed-forward model\n",
    "    model.add(tf.keras.layers.Flatten())  # takes our 28x28 and makes it 1x784\n",
    "\n",
    "    for i in range(0,layer):\n",
    "        model.add(tf.keras.layers.Dense(neuron, activation=activation))  # a simple fully-connected layer, 128 units, relu activation\n",
    "\n",
    "    model.add(tf.keras.layers.Dense(10, activation=tf.nn.softmax))  # our output layer. 10 units for 10 classes. Softmax for probability distribution\n",
    "    \n",
    "    model.compile(optimizer=optimizer,  # Good default optimizer to start with\n",
    "              loss = loss,  # how will we calculate our \"error.\" Neural network aims to minimize loss.\n",
    "              metrics= metrics)  # what to track\n",
    "\n",
    "    start = time.time()\n",
    "\n",
    "    print('Trenuję: ')\n",
    "    model.fit(x_train, y_train, epochs=epochs)  # train the model\n",
    "\n",
    "    end = time.time()\n",
    "\n",
    "    training_time = end - start\n",
    "\n",
    "    print('\\n Weryfikuję: ')\n",
    "    val_loss, val_acc = model.evaluate(x_test, y_test)  # evaluate the out of sample data with model\n",
    "    return val_loss, val_acc, training_time\n",
    "\n"
   ]
  },
  {
   "cell_type": "code",
   "execution_count": 4,
   "metadata": {},
   "outputs": [
    {
     "name": "stdout",
     "output_type": "stream",
     "text": [
      "Trenuję: \n",
      "Epoch 1/3\n",
      "1875/1875 [==============================] - 2s 1ms/step - loss: 0.2698 - accuracy: 0.9214\n",
      "Epoch 2/3\n",
      "1875/1875 [==============================] - 2s 1ms/step - loss: 0.1084 - accuracy: 0.9662\n",
      "Epoch 3/3\n",
      "1875/1875 [==============================] - 3s 1ms/step - loss: 0.0751 - accuracy: 0.9757\n",
      "\n",
      " Weryfikuję: \n",
      "313/313 [==============================] - 0s 888us/step - loss: 0.0919 - accuracy: 0.9720\n",
      "Trenowanie trwało: 7.924617290496826 sekund\n",
      "Loss dla danych testowych: 0.0918782651424408\n",
      "Accuracy dla danych testowych: 0.972000002861023\n"
     ]
    }
   ],
   "source": [
    "val_loss, val_acc, training_time = create_model()\n",
    "print(\"Trenowanie trwało: \" + str(training_time) + \" sekund\")\n",
    "print(\"Loss dla danych testowych: \" + str(val_loss))\n",
    "print(\"Accuracy dla danych testowych: \" + str(val_acc))"
   ]
  },
  {
   "cell_type": "code",
   "execution_count": null,
   "metadata": {},
   "outputs": [],
   "source": []
  }
 ],
 "metadata": {
  "anaconda-cloud": {},
  "kernelspec": {
   "display_name": "Python 3",
   "language": "python",
   "name": "python3"
  },
  "language_info": {
   "codemirror_mode": {
    "name": "ipython",
    "version": 3
   },
   "file_extension": ".py",
   "mimetype": "text/x-python",
   "name": "python",
   "nbconvert_exporter": "python",
   "pygments_lexer": "ipython3",
   "version": "3.8.5"
  }
 },
 "nbformat": 4,
 "nbformat_minor": 4
}
