{
 "cells": [
  {
   "cell_type": "code",
   "execution_count": 1,
   "metadata": {},
   "outputs": [
    {
     "name": "stdout",
     "output_type": "stream",
     "text": [
      "importing Jupyter notebook from basic_create_model_function.ipynb\n",
      "Trenuję: \n",
      "1875/1875 [==============================] - 3s 1ms/step - loss: 0.4702 - accuracy: 0.8662\n",
      "313/313 [==============================] - 0s 856us/step - loss: 0.1323 - accuracy: 0.9583\n",
      "1875/1875 [==============================] - 2s 1ms/step - loss: 0.1087 - accuracy: 0.9659\n",
      "313/313 [==============================] - 0s 807us/step - loss: 0.1049 - accuracy: 0.9691\n",
      "1875/1875 [==============================] - 2s 1ms/step - loss: 0.0726 - accuracy: 0.9773\n",
      "313/313 [==============================] - 0s 781us/step - loss: 0.1037 - accuracy: 0.9680\n",
      "\n",
      "Trenowanie trwało: [2.707869291305542, 2.0701005458831787, 2.2891621589660645] sekund\n",
      "Loss dla danych testowych: [0.1322968304157257, 0.10494666546583176, 0.10373733192682266]\n",
      "Metryka dla danych testowych: [0.958299994468689, 0.9690999984741211, 0.9679999947547913]\n",
      "Loss dla danych trenowanych - uczących: [0.26266464591026306, 0.10868958383798599, 0.07255075871944427]\n",
      "Metryka dla danych trenowanych - uczących: [0.9226333498954773, 0.9658833146095276, 0.977316677570343]\n",
      "Trenuję: \n",
      "1875/1875 [==============================] - 3s 1ms/step - loss: 0.4696 - accuracy: 0.8707\n",
      "313/313 [==============================] - 0s 867us/step - loss: 0.1365 - accuracy: 0.9583\n",
      "1875/1875 [==============================] - 2s 1ms/step - loss: 0.1118 - accuracy: 0.9655\n",
      "313/313 [==============================] - 0s 866us/step - loss: 0.1013 - accuracy: 0.9689\n",
      "1875/1875 [==============================] - 3s 1ms/step - loss: 0.0768 - accuracy: 0.9754\n",
      "313/313 [==============================] - 0s 990us/step - loss: 0.0980 - accuracy: 0.9697\n",
      "\n",
      "Trenowanie trwało: [2.619706153869629, 2.3676936626434326, 2.6169700622558594] sekund\n",
      "Loss dla danych testowych: [0.13649608194828033, 0.10126316547393799, 0.09800419211387634]\n",
      "Metryka dla danych testowych: [0.958299994468689, 0.9689000248908997, 0.9696999788284302]\n",
      "Loss dla danych trenowanych - uczących: [0.26362520456314087, 0.11183387041091919, 0.07676628977060318]\n",
      "Metryka dla danych trenowanych - uczących: [0.9237666726112366, 0.965499997138977, 0.9753999710083008]\n"
     ]
    }
   ],
   "source": [
    "import import_ipynb\n",
    "import basic_create_model_function as al\n",
    "import tensorflow.keras as keras\n",
    "import tensorflow as tf \n",
    "import matplotlib.pyplot as plt\n",
    "import pandas as pd\n",
    "import numpy as np\n",
    "import seaborn as sns"
   ]
  },
  {
   "cell_type": "code",
   "execution_count": 2,
   "metadata": {},
   "outputs": [
    {
     "name": "stdout",
     "output_type": "stream",
     "text": [
      "Trenuję: \n",
      "1875/1875 [==============================] - 3s 1ms/step - loss: 0.4787 - accuracy: 0.8555\n",
      "313/313 [==============================] - 0s 1ms/step - loss: 0.1447 - accuracy: 0.9551\n",
      "1875/1875 [==============================] - 2s 1ms/step - loss: 0.1089 - accuracy: 0.9661\n",
      "313/313 [==============================] - 0s 932us/step - loss: 0.1075 - accuracy: 0.9673\n",
      "1875/1875 [==============================] - 2s 1ms/step - loss: 0.0734 - accuracy: 0.9765\n",
      "313/313 [==============================] - 0s 935us/step - loss: 0.0964 - accuracy: 0.9701\n"
     ]
    }
   ],
   "source": [
    "val_loss, val_acc, loss, acc, trains_time, model = al.create_model_with_history_for_all_epochs()"
   ]
  },
  {
   "cell_type": "code",
   "execution_count": 3,
   "metadata": {},
   "outputs": [
    {
     "name": "stdout",
     "output_type": "stream",
     "text": [
      "Accuracy dla danych testowych:  0.9700999855995178\n",
      "Loss dla danych testowych:  0.09643306583166122\n",
      "Accuracy dla danych uczących:  0.9764833450317383\n",
      "Loss dla danych uczących:  0.0733737125992775\n",
      "Czas uczenia:  8.313476800918579\n"
     ]
    }
   ],
   "source": [
    "print('Accuracy dla danych testowych: ', val_acc[2])\n",
    "print('Loss dla danych testowych: ', val_loss[2])\n",
    "print('Accuracy dla danych uczących: ', acc[2])\n",
    "print('Loss dla danych uczących: ', loss[2])\n",
    "print('Czas uczenia: ', sum(trains_time))"
   ]
  },
  {
   "cell_type": "code",
   "execution_count": 4,
   "metadata": {},
   "outputs": [
    {
     "name": "stdout",
     "output_type": "stream",
     "text": [
      "INFO:tensorflow:Assets written to: default_parameters.model\\assets\n"
     ]
    }
   ],
   "source": [
    "model.save('default_parameters.model')"
   ]
  }
 ],
 "metadata": {
  "kernelspec": {
   "display_name": "Python 3.8.3 64-bit ('wysoc': virtualenv)",
   "language": "python",
   "name": "python38364bitwysocvirtualenv9e4a190ee59f4fc8960a2c4f2382dc7a"
  },
  "language_info": {
   "codemirror_mode": {
    "name": "ipython",
    "version": 3
   },
   "file_extension": ".py",
   "mimetype": "text/x-python",
   "name": "python",
   "nbconvert_exporter": "python",
   "pygments_lexer": "ipython3",
   "version": "3.8.3"
  }
 },
 "nbformat": 4,
 "nbformat_minor": 4
}
