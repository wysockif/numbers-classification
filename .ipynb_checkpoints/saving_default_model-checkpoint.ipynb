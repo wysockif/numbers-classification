{
 "cells": [
  {
   "cell_type": "code",
   "execution_count": null,
   "metadata": {},
   "outputs": [
    {
     "name": "stdout",
     "output_type": "stream",
     "text": [
      "importing Jupyter notebook from basic_create_model_function.ipynb\n",
      "Trenuję: \n",
      "1875/1875 [==============================] - 3s 1ms/step - loss: 0.4696 - accuracy: 0.8671\n",
      "313/313 [==============================] - 0s 785us/step - loss: 0.1359 - accuracy: 0.9576\n",
      "1049/1875 [===============>..............] - ETA: 0s - loss: 0.1116 - accuracy: 0.9647"
     ]
    }
   ],
   "source": [
    "import import_ipynb\n",
    "import basic_create_model_function as al\n",
    "import tensorflow.keras as keras\n",
    "import tensorflow as tf \n",
    "import matplotlib.pyplot as plt\n",
    "import pandas as pd\n",
    "import numpy as np\n",
    "import seaborn as sns"
   ]
  },
  {
   "cell_type": "code",
   "execution_count": null,
   "metadata": {},
   "outputs": [],
   "source": [
    "val_loss, val_acc, loss, acc, trains_time, model = al.create_model_with_history_for_all_epochs()"
   ]
  },
  {
   "cell_type": "code",
   "execution_count": null,
   "metadata": {},
   "outputs": [],
   "source": [
    "print('Accuracy dla danych testowych: ', val_acc)\n",
    "print('Loss dla danych testowych: ', val_loss)\n",
    "print('Accuracy dla danych uczących: ', acc)\n",
    "print('Loss dla danych uczących: ', loss)\n",
    "print('Czas uczenia: ', trains_time)"
   ]
  },
  {
   "cell_type": "code",
   "execution_count": 3,
   "metadata": {},
   "outputs": [
    {
     "name": "stdout",
     "output_type": "stream",
     "text": [
      "INFO:tensorflow:Assets written to: default_parameters.model\\assets\n"
     ]
    }
   ],
   "source": [
    "model.save('default_parameters.model')"
   ]
  }
 ],
 "metadata": {
  "kernelspec": {
   "display_name": "Python 3.8.3 64-bit ('wysoc': virtualenv)",
   "language": "python",
   "name": "python38364bitwysocvirtualenv9e4a190ee59f4fc8960a2c4f2382dc7a"
  },
  "language_info": {
   "codemirror_mode": {
    "name": "ipython",
    "version": 3
   },
   "file_extension": ".py",
   "mimetype": "text/x-python",
   "name": "python",
   "nbconvert_exporter": "python",
   "pygments_lexer": "ipython3",
   "version": "3.8.3"
  }
 },
 "nbformat": 4,
 "nbformat_minor": 4
}
