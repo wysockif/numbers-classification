{
 "cells": [
  {
   "cell_type": "code",
   "execution_count": 11,
   "metadata": {},
   "outputs": [],
   "source": [
    "import tensorflow.keras as keras\n",
    "import tensorflow as tf\n",
    "import time\n",
    "import numpy"
   ]
  },
  {
   "cell_type": "code",
   "execution_count": 12,
   "metadata": {},
   "outputs": [],
   "source": [
    "# https://pythonprogramming.net/introduction-deep-learning-python-tensorflow-keras/\n",
    "def create_model(activation=tf.nn.relu,neuron = 128,layer = 2,optimizer='adam',loss='sparse_categorical_crossentropy',metrics='accuracy',epochs=3):\n",
    "    mnist = tf.keras.datasets.mnist\n",
    "    (x_train, y_train),(x_test, y_test) = mnist.load_data()\n",
    "    x_train = tf.keras.utils.normalize(x_train, axis=1)\n",
    "    x_test = tf.keras.utils.normalize(x_test, axis=1)\n",
    "\n",
    "    model = tf.keras.models.Sequential()  # a basic feed-forward model\n",
    "    model.add(tf.keras.layers.Flatten())  # takes our 28x28 and makes it 1x784\n",
    "\n",
    "    for i in range(0,layer):\n",
    "        model.add(tf.keras.layers.Dense(neuron, activation=activation))  # a simple fully-connected layer, 128 units, relu activation\n",
    "\n",
    "    model.add(tf.keras.layers.Dense(10, activation=tf.nn.softmax))  # our output layer. 10 units for 10 classes. Softmax for probability distribution\n",
    "    \n",
    "    model.compile(optimizer=optimizer,  # Good default optimizer to start with\n",
    "              loss = loss,  # how will we calculate our \"error.\" Neural network aims to minimize loss.\n",
    "              metrics= metrics)  # what to track\n",
    "\n",
    "    print('Trenuję: ')\n",
    "    start = time.time()\n",
    "\n",
    "    model.fit(x_train, y_train, epochs=epochs)  # train the model\n",
    "\n",
    "    end = time.time()\n",
    "    training_time = end - start\n",
    "\n",
    "    print('\\n Weryfikuję: ')\n",
    "    val_loss_test, val_acc_test = model.evaluate(x_test, y_test)  # evaluate the out of sample data with model\n",
    "    return val_loss_test, val_acc_test,training_time, model\n",
    "\n"
   ]
  },
  {
   "cell_type": "code",
   "execution_count": 13,
   "metadata": {},
   "outputs": [],
   "source": [
    "def create_model_with_history_for_all_epochs(activation=tf.nn.relu,neuron = 128,layer = 2,optimizer='adam',loss='sparse_categorical_crossentropy',metrics='accuracy',epochs=3,verbose = 1):\n",
    "    mnist = tf.keras.datasets.mnist\n",
    "\n",
    "    (x_train, y_train),(x_test, y_test) = mnist.load_data()\n",
    "    x_train = tf.keras.utils.normalize(x_train, axis=1)\n",
    "    x_test = tf.keras.utils.normalize(x_test, axis=1)\n",
    " \n",
    "    model = tf.keras.models.Sequential()  # a basic feed-forward model\n",
    "    model.add(tf.keras.layers.Flatten())  # takes our 28x28 and makes it 1x784\n",
    "\n",
    "    for i in range(0,layer):\n",
    "        model.add(tf.keras.layers.Dense(neuron, activation=activation))  # a simple fully-connected layer, 128 units, relu activation\n",
    "\n",
    "    model.add(tf.keras.layers.Dense(10, activation=tf.nn.softmax))  # our output layer. 10 units for 10 classes. Softmax for probability distribution\n",
    "    \n",
    "    model.compile(optimizer=optimizer,  # Good default optimizer to start with\n",
    "              loss = loss,  # how will we calculate our \"error.\" Neural network aims to minimize loss.\n",
    "              metrics= metrics)  # what to track\n",
    "\n",
    "    print('Trenuję: ')\n",
    "    val_loss = list()\n",
    "    val_acc = list()\n",
    "    loss = list()\n",
    "    acc = list()\n",
    "    trains_time = list()\n",
    "\n",
    "    for i in range(0,epochs):\n",
    "        start = time.time()\n",
    "\n",
    "        history = model.fit(x_train,y_train,verbose = verbose)# verbose=0 aby nie wyswietlało \n",
    "        \n",
    "        trains_time.append(time.time() - start)\n",
    "        \n",
    "        val_loss_ep, val_acc_ep = model.evaluate(x_test, y_test,verbose = verbose)\n",
    "        \n",
    "        val_acc.append(val_acc_ep)\n",
    "        val_loss.append(val_loss_ep)\n",
    "        loss.append(history.history['loss'][-1])\n",
    "        acc.append(history.history[metrics][-1])\n",
    "        \n",
    "    return val_loss, val_acc, loss,acc, trains_time, model"
   ]
  },
  {
   "cell_type": "code",
   "execution_count": 14,
   "metadata": {},
   "outputs": [
    {
     "name": "stdout",
     "output_type": "stream",
     "text": [
      "Trenuję: \n",
      "1875/1875 [==============================] - 3s 1ms/step - loss: 0.4649 - accuracy: 0.8649\n",
      "313/313 [==============================] - 0s 909us/step - loss: 0.1353 - accuracy: 0.9602\n",
      "1875/1875 [==============================] - 3s 1ms/step - loss: 0.1077 - accuracy: 0.9668\n",
      "313/313 [==============================] - 0s 907us/step - loss: 0.1020 - accuracy: 0.9688\n",
      "1875/1875 [==============================] - 3s 1ms/step - loss: 0.0738 - accuracy: 0.9774\n",
      "313/313 [==============================] - 0s 943us/step - loss: 0.0912 - accuracy: 0.9719\n",
      "\n",
      "Trenowanie trwało: [3.196532964706421, 2.7145726680755615, 2.7280514240264893] sekund\n",
      "Loss dla danych testowych: [0.1352991908788681, 0.10197452455759048, 0.09123930335044861]\n",
      "Accuracy dla danych testowych: [0.9602000117301941, 0.9688000082969666, 0.9718999862670898]\n",
      "Loss dla danych trenowanych - uczących: [0.2614085078239441, 0.10772289335727692, 0.07381346821784973]\n",
      "Accuracy dla danych trenowanych - uczących: [0.922950029373169, 0.9668166637420654, 0.977400004863739]\n"
     ]
    }
   ],
   "source": [
    "val_loss, val_acc,loss,acc, training_time, model = create_model_with_history_for_all_epochs()\n",
    "\n",
    "print()\n",
    "print(\"Trenowanie trwało: \" + str(training_time) + \" sekund\")\n",
    "print(\"Loss dla danych testowych: \" + str(val_loss))\n",
    "print(\"Metryka dla danych testowych: \" + str(val_acc))\n",
    "print(\"Loss dla danych trenowanych - uczących: \" + str(loss)) \n",
    "print(\"Metryka dla danych trenowanych - uczących: \" + str(acc))\n"
   ]
  },
  {
   "cell_type": "code",
   "execution_count": null,
   "metadata": {},
   "outputs": [],
   "source": []
  }
 ],
 "metadata": {
  "anaconda-cloud": {},
  "kernelspec": {
   "display_name": "Python 3",
   "language": "python",
   "name": "python3"
  },
  "language_info": {
   "codemirror_mode": {
    "name": "ipython",
    "version": 3
   },
   "file_extension": ".py",
   "mimetype": "text/x-python",
   "name": "python",
   "nbconvert_exporter": "python",
   "pygments_lexer": "ipython3",
   "version": "3.8.3"
  }
 },
 "nbformat": 4,
 "nbformat_minor": 4
}
