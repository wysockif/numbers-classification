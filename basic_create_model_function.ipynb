{
 "cells": [
  {
   "cell_type": "code",
   "execution_count": 1,
   "metadata": {},
   "outputs": [],
   "source": [
    "import tensorflow.keras as keras\n",
    "import tensorflow as tf\n",
    "import time\n",
    "import numpy"
   ]
  },
  {
   "source": [
    "To powinno byc inne miejsce ale chyba to jest dobra definicja co to jest loss.\n",
    "loss - parametr kosztu/straty,redukuje wszystkie różne dobre i złe aspekty potencjalnie złożonego systemu do jednej liczby skalarnej, która umożliwia uszeregowanie i porównanie rozwiązań kandydujących.\n",
    "accuracy - parametr poprawność badanych danych.\n"
   ],
   "cell_type": "markdown",
   "metadata": {
    "pycharm": {
     "name": "#%% md\n"
    }
   }
  },
  {
   "cell_type": "code",
   "execution_count": 2,
   "metadata": {},
   "outputs": [],
   "source": [
    "# https://pythonprogramming.net/introduction-deep-learning-python-tensorflow-keras/\n",
    "def create_model(activation=tf.nn.relu,neuron = 128,layer = 2,optimizer='adam',loss='sparse_categorical_crossentropy',metrics=['accuracy'],epochs=3):\n",
    "    mnist = tf.keras.datasets.mnist\n",
    "    (x_train, y_train),(x_test, y_test) = mnist.load_data()\n",
    "    x_train = tf.keras.utils.normalize(x_train, axis=1)\n",
    "    x_test = tf.keras.utils.normalize(x_test, axis=1)\n",
    "\n",
    "    model = tf.keras.models.Sequential()  # a basic feed-forward model\n",
    "    model.add(tf.keras.layers.Flatten())  # takes our 28x28 and makes it 1x784\n",
    "\n",
    "    for i in range(0,layer):\n",
    "        model.add(tf.keras.layers.Dense(neuron, activation=activation))  # a simple fully-connected layer, 128 units, relu activation\n",
    "\n",
    "    model.add(tf.keras.layers.Dense(10, activation=tf.nn.softmax))  # our output layer. 10 units for 10 classes. Softmax for probability distribution\n",
    "    \n",
    "    model.compile(optimizer=optimizer,  # Good default optimizer to start with\n",
    "              loss = loss,  # how will we calculate our \"error.\" Neural network aims to minimize loss.\n",
    "              metrics= metrics)  # what to track\n",
    "\n",
    "    print('Trenuję: ')\n",
    "    start = time.time()\n",
    "\n",
    "    model.fit(x_train, y_train, epochs=epochs)  # train the model\n",
    "\n",
    "    end = time.time()\n",
    "    training_time = end - start\n",
    "\n",
    "    print('\\n Weryfikuję: ')\n",
    "    val_loss_test, val_acc_test = model.evaluate(x_test, y_test)  # evaluate the out of sample data with model\n",
    "    return val_loss_test, val_acc_test,training_time\n",
    "\n"
   ]
  },
  {
   "cell_type": "code",
   "execution_count": 6,
   "metadata": {},
   "outputs": [],
   "source": [
    "def create_model_with_history_for_all_epochs(activation=tf.nn.relu,neuron = 128,layer = 2,optimizer='adam',loss='sparse_categorical_crossentropy',metrics=['accuracy'],epochs=3,verbose = 1):\n",
    "    mnist = tf.keras.datasets.mnist\n",
    "\n",
    "    (x_train, y_train),(x_test, y_test) = mnist.load_data()\n",
    "    x_train = tf.keras.utils.normalize(x_train, axis=1)\n",
    "    x_test = tf.keras.utils.normalize(x_test, axis=1)\n",
    " \n",
    "    model = tf.keras.models.Sequential()  # a basic feed-forward model\n",
    "    model.add(tf.keras.layers.Flatten())  # takes our 28x28 and makes it 1x784\n",
    "\n",
    "    for i in range(0,layer):\n",
    "        model.add(tf.keras.layers.Dense(neuron, activation=activation))  # a simple fully-connected layer, 128 units, relu activation\n",
    "\n",
    "    model.add(tf.keras.layers.Dense(10, activation=tf.nn.softmax))  # our output layer. 10 units for 10 classes. Softmax for probability distribution\n",
    "    \n",
    "    model.compile(optimizer=optimizer,  # Good default optimizer to start with\n",
    "              loss = loss,  # how will we calculate our \"error.\" Neural network aims to minimize loss.\n",
    "              metrics= metrics)  # what to track\n",
    "\n",
    "    print('Trenuję: ')\n",
    "    val_loss = list()\n",
    "    val_acc = list()\n",
    "    loss = list()\n",
    "    acc = list()\n",
    "    trains_time = list()\n",
    "\n",
    "    for i in range(0,epochs):\n",
    "        start = time.time()\n",
    "\n",
    "        history = model.fit(x_train,y_train,verbose = verbose)# verbose=0 aby nie wyswietlało \n",
    "        \n",
    "        trains_time.append(time.time() - start)\n",
    "        \n",
    "        val_loss_ep, val_acc_ep = model.evaluate(x_test, y_test,verbose = verbose)\n",
    "        \n",
    "        val_acc.append(val_acc_ep)\n",
    "        val_loss.append(val_loss_ep)\n",
    "        loss.append(history.history['loss'][-1])\n",
    "        acc.append(history.history['accuracy'][-1])\n",
    "        \n",
    "    \n",
    "\n",
    "    return val_loss,val_acc,loss,acc, trains_time"
   ]
  },
  {
   "cell_type": "code",
   "execution_count": 8,
   "metadata": {},
   "outputs": [
    {
     "output_type": "stream",
     "name": "stdout",
     "text": [
      "1875/1875 [==============================] - 4s 2ms/step - loss: 0.4792 - accuracy: 0.8625\n",
      "313/313 [==============================] - 1s 1ms/step - loss: 0.1420 - accuracy: 0.9551\n",
      "1875/1875 [==============================] - 3s 2ms/step - loss: 0.1097 - accuracy: 0.9656\n",
      "313/313 [==============================] - 0s 1ms/step - loss: 0.1212 - accuracy: 0.9619\n",
      "1875/1875 [==============================] - 4s 2ms/step - loss: 0.0743 - accuracy: 0.9768\n",
      "313/313 [==============================] - 0s 1ms/step - loss: 0.0979 - accuracy: 0.9705\n",
      "\n",
      "Trenowanie trwało: [4.005512475967407, 3.477496862411499, 3.8852062225341797] sekund\n",
      "Loss dla danych testowych: [0.14198380708694458, 0.12124478816986084, 0.09792091697454453]\n",
      "Accuracy dla danych testowych: [0.9550999999046326, 0.961899995803833, 0.9704999923706055]\n",
      "Loss dla danych tresnowanych: [0.26936137676239014, 0.10966117680072784, 0.07434511929750443]\n",
      "Accuracy dla danych trenowanych: [0.9204166531562805, 0.9656333327293396, 0.9768499732017517]\n"
     ]
    }
   ],
   "source": [
    "val_loss, val_acc,loss,acc, training_time = create_model_with_history_for_all_epochs()\n",
    "\n",
    "print()\n",
    "print(\"Trenowanie trwało: \" + str(training_time) + \" sekund\")\n",
    "print(\"Loss dla danych testowych: \" + str(val_loss))\n",
    "print(\"Accuracy dla danych testowych: \" + str(val_acc))\n",
    "print(\"Loss dla danych trenowanych - uczących: \" + str(loss)) \n",
    "print(\"Accuracy dla danych trenowanych - uczących: \" + str(acc))\n"
   ]
  },
  {
   "source": [
    "Używamy modułu tensorflow i tensorflow.keras.\n",
    "Będziemy korzystać z prostego modelu sieci neuronowej Sequential().\n",
    "\n",
    "W podstawowej wersji używamy parametrów:\n",
    "..."
   ],
   "cell_type": "markdown",
   "metadata": {}
  }
 ],
 "metadata": {
  "anaconda-cloud": {},
  "kernelspec": {
   "display_name": "Python 3",
   "language": "python",
   "name": "python3"
  },
  "language_info": {
   "codemirror_mode": {
    "name": "ipython",
    "version": 3
   },
   "file_extension": ".py",
   "mimetype": "text/x-python",
   "name": "python",
   "nbconvert_exporter": "python",
   "pygments_lexer": "ipython3",
   "version": "3.8.5-final"
  }
 },
 "nbformat": 4,
 "nbformat_minor": 4
}