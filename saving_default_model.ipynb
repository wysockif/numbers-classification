{
 "cells": [
  {
   "cell_type": "code",
   "execution_count": 1,
   "metadata": {},
   "outputs": [
    {
     "name": "stdout",
     "output_type": "stream",
     "text": [
      "importing Jupyter notebook from basic_create_model_function.ipynb\n"
     ]
    }
   ],
   "source": [
    "import import_ipynb\n",
    "import basic_create_model_function as al\n",
    "import tensorflow.keras as keras\n",
    "import tensorflow as tf \n",
    "import matplotlib.pyplot as plt\n",
    "import pandas as pd\n",
    "import numpy as np\n",
    "import seaborn as sns"
   ]
  },
  {
   "cell_type": "code",
   "execution_count": 2,
   "metadata": {},
   "outputs": [
    {
     "name": "stdout",
     "output_type": "stream",
     "text": [
      "Trenuję: \n",
      "1875/1875 [==============================] - 2s 983us/step - loss: 0.4594 - accuracy: 0.8660\n",
      "313/313 [==============================] - 0s 988us/step - loss: 0.1553 - accuracy: 0.9521\n",
      "1875/1875 [==============================] - 2s 1ms/step - loss: 0.1085 - accuracy: 0.9663\n",
      "313/313 [==============================] - 0s 877us/step - loss: 0.1049 - accuracy: 0.9692\n",
      "1875/1875 [==============================] - 2s 1ms/step - loss: 0.0738 - accuracy: 0.9767\n",
      "313/313 [==============================] - 0s 784us/step - loss: 0.0981 - accuracy: 0.9677\n"
     ]
    }
   ],
   "source": [
    "val_loss, val_acc, loss, acc, trains_time, model = al.create_model_with_history_for_all_epochs()"
   ]
  },
  {
   "cell_type": "code",
   "execution_count": 3,
   "metadata": {},
   "outputs": [
    {
     "name": "stdout",
     "output_type": "stream",
     "text": [
      "Accuracy dla danych testowych:  0.9700999855995178\n",
      "Loss dla danych testowych:  0.09643306583166122\n",
      "Accuracy dla danych uczących:  0.9764833450317383\n",
      "Loss dla danych uczących:  0.0733737125992775\n",
      "Czas uczenia:  8.313476800918579\n"
     ]
    }
   ],
   "source": [
    "print('Accuracy dla danych testowych: ', val_acc[2])\n",
    "print('Loss dla danych testowych: ', val_loss[2])\n",
    "print('Accuracy dla danych uczących: ', acc[2])\n",
    "print('Loss dla danych uczących: ', loss[2])\n",
    "print('Czas uczenia: ', sum(trains_time))"
   ]
  },
  {
   "cell_type": "code",
   "execution_count": 4,
   "metadata": {},
   "outputs": [
    {
     "name": "stdout",
     "output_type": "stream",
     "text": [
      "INFO:tensorflow:Assets written to: default_parameters.model\\assets\n"
     ]
    }
   ],
   "source": [
    "model.save('default_parameters.model')"
   ]
  }
 ],
 "metadata": {
  "kernelspec": {
   "display_name": "Python 3.8.3 64-bit ('wysoc': virtualenv)",
   "language": "python",
   "name": "python38364bitwysocvirtualenv9e4a190ee59f4fc8960a2c4f2382dc7a"
  },
  "language_info": {
   "codemirror_mode": {
    "name": "ipython",
    "version": 3
   },
   "file_extension": ".py",
   "mimetype": "text/x-python",
   "name": "python",
   "nbconvert_exporter": "python",
   "pygments_lexer": "ipython3",
   "version": "3.8.3"
  }
 },
 "nbformat": 4,
 "nbformat_minor": 4
}
