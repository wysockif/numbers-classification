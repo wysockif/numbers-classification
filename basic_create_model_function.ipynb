{
 "cells": [
  {
   "cell_type": "code",
   "execution_count": 10,
   "metadata": {},
   "outputs": [],
   "source": [
    "import tensorflow.keras as keras\n",
    "import tensorflow as tf\n",
    "import time\n",
    "import numpy"
   ]
  },
  {
   "source": [
    "To powinno byc inne miejsce ale chyba to jest dobra definicja co to jest loss.\n",
    "loss - parametr kosztu/straty,redukuje wszystkie różne dobre i złe aspekty potencjalnie złożonego systemu do jednej liczby skalarnej, która umożliwia uszeregowanie i porównanie rozwiązań kandydujących.\n",
    "accuracy - parametr poprawność badanych danych.\n"
   ],
   "cell_type": "markdown",
   "metadata": {
    "pycharm": {
     "name": "#%% md\n"
    }
   }
  },
  {
   "cell_type": "code",
   "execution_count": 11,
   "metadata": {},
   "outputs": [],
   "source": [
    "# https://pythonprogramming.net/introduction-deep-learning-python-tensorflow-keras/\n",
    "def create_model(activation=tf.nn.relu,neuron = 128,layer = 2,optimizer='adam',loss='sparse_categorical_crossentropy',metrics=['accuracy'],epochs=3):\n",
    "    mnist = tf.keras.datasets.mnist\n",
    "    (x_train, y_train),(x_test, y_test) = mnist.load_data()\n",
    "    x_train = tf.keras.utils.normalize(x_train, axis=1)\n",
    "    x_test = tf.keras.utils.normalize(x_test, axis=1)\n",
    "\n",
    "    model = tf.keras.models.Sequential()  # a basic feed-forward model\n",
    "    model.add(tf.keras.layers.Flatten())  # takes our 28x28 and makes it 1x784\n",
    "\n",
    "    for i in range(0,layer):\n",
    "        model.add(tf.keras.layers.Dense(neuron, activation=activation))  # a simple fully-connected layer, 128 units, relu activation\n",
    "\n",
    "    model.add(tf.keras.layers.Dense(10, activation=tf.nn.softmax))  # our output layer. 10 units for 10 classes. Softmax for probability distribution\n",
    "    \n",
    "    model.compile(optimizer=optimizer,  # Good default optimizer to start with\n",
    "              loss = loss,  # how will we calculate our \"error.\" Neural network aims to minimize loss.\n",
    "              metrics= metrics)  # what to track\n",
    "\n",
    "    print('Trenuję: ')\n",
    "    start = time.time()\n",
    "\n",
    "    model.fit(x_train, y_train, epochs=epochs)  # train the model\n",
    "\n",
    "    end = time.time()\n",
    "    training_time = end - start\n",
    "\n",
    "    print('\\n Weryfikuję: ')\n",
    "    val_loss_test, val_acc_test = model.evaluate(x_test, y_test)  # evaluate the out of sample data with model\n",
    "    return val_loss_test, val_acc_test,training_time\n",
    "\n"
   ]
  },
  {
   "cell_type": "code",
   "execution_count": 12,
   "metadata": {},
   "outputs": [
    {
     "output_type": "stream",
     "name": "stdout",
     "text": [
      "Trenuję: \n",
      "Epoch 1/3\n",
      "1875/1875 [==============================] - 2s 915us/step - loss: 0.4592 - accuracy: 0.8731\n",
      "Epoch 2/3\n",
      "1875/1875 [==============================] - 2s 919us/step - loss: 0.1134 - accuracy: 0.9647\n",
      "Epoch 3/3\n",
      "1875/1875 [==============================] - 2s 910us/step - loss: 0.0700 - accuracy: 0.9789\n",
      "\n",
      " Weryfikuję: \n",
      "313/313 [==============================] - 0s 567us/step - loss: 0.1088 - accuracy: 0.9663\n",
      "Trenowanie trwało: 5.5932981967926025 sekund\n",
      "Loss dla danych testowych: 0.10883459448814392\n",
      "Accuracy dla danych testowych: 0.9663000106811523\n"
     ]
    }
   ],
   "source": [
    "val_loss, val_acc, training_time = create_model()\n",
    "print(\"Trenowanie trwało: \" + str(training_time) + \" sekund\")\n",
    "print(\"Loss dla danych testowych: \" + str(val_loss))\n",
    "print(\"Accuracy dla danych testowych: \" + str(val_acc))"
   ]
  },
  {
   "cell_type": "code",
   "execution_count": 13,
   "metadata": {},
   "outputs": [],
   "source": [
    "def create_model_with_history_for_all_epochs(activation=tf.nn.relu,neuron = 128,layer = 2,optimizer='adam',loss='sparse_categorical_crossentropy',metrics=['accuracy'],epochs=3,verbose = 1):\n",
    "    mnist = tf.keras.datasets.mnist\n",
    "\n",
    "    (x_train, y_train),(x_test, y_test) = mnist.load_data()\n",
    "    x_train = tf.keras.utils.normalize(x_train, axis=1)\n",
    "    x_test = tf.keras.utils.normalize(x_test, axis=1)\n",
    " \n",
    "    model = tf.keras.models.Sequential()  # a basic feed-forward model\n",
    "    model.add(tf.keras.layers.Flatten())  # takes our 28x28 and makes it 1x784\n",
    "\n",
    "    for i in range(0,layer):\n",
    "        model.add(tf.keras.layers.Dense(neuron, activation=activation))  # a simple fully-connected layer, 128 units, relu activation\n",
    "\n",
    "    model.add(tf.keras.layers.Dense(10, activation=tf.nn.softmax))  # our output layer. 10 units for 10 classes. Softmax for probability distribution\n",
    "    \n",
    "    model.compile(optimizer=optimizer,  # Good default optimizer to start with\n",
    "              loss = loss,  # how will we calculate our \"error.\" Neural network aims to minimize loss.\n",
    "              metrics= metrics)  # what to track\n",
    "\n",
    "    print('Trenuję: ')\n",
    "    val_loss = list()\n",
    "    val_acc = list()\n",
    "    loss = list()\n",
    "    acc = list()\n",
    "    trains_time = list()\n",
    "\n",
    "    for i in range(0,epochs):\n",
    "        start = time.time()\n",
    "\n",
    "        history = model.fit(x_train,y_train,verbose = verbose)# verbose=0 aby nie wyswietlało \n",
    "        \n",
    "        trains_time.append(time.time() - start)\n",
    "        \n",
    "        val_loss_ep, val_acc_ep = model.evaluate(x_test, y_test,verbose = verbose)\n",
    "        \n",
    "        val_acc.append(val_acc_ep)\n",
    "        val_loss.append(val_loss_ep)\n",
    "        loss.append(history.history['loss'][-1])\n",
    "        acc.append(history.history['accuracy'][-1])\n",
    "        \n",
    "    \n",
    "\n",
    "    return val_loss,val_acc,loss,acc, trains_time"
   ]
  },
  {
   "cell_type": "code",
   "execution_count": 14,
   "metadata": {},
   "outputs": [
    {
     "output_type": "stream",
     "name": "stdout",
     "text": [
      "Trenuję: \n",
      "1875/1875 [==============================] - 2s 910us/step - loss: 0.4724 - accuracy: 0.8631\n",
      "313/313 [==============================] - 0s 567us/step - loss: 0.1375 - accuracy: 0.9583\n",
      "1875/1875 [==============================] - 2s 910us/step - loss: 0.1052 - accuracy: 0.9677\n",
      "313/313 [==============================] - 0s 578us/step - loss: 0.1222 - accuracy: 0.9596\n",
      "1875/1875 [==============================] - 2s 908us/step - loss: 0.0726 - accuracy: 0.9772\n",
      "313/313 [==============================] - 0s 567us/step - loss: 0.0939 - accuracy: 0.9723\n",
      "Trenowanie trwało: [2.1086676120758057, 1.8569412231445312, 1.851121187210083] sekund\n",
      "Loss dla danych testowych: [0.13749976456165314, 0.12221861630678177, 0.09386907517910004]\n",
      "Accuracy dla danych testowych: [0.958299994468689, 0.9595999717712402, 0.9722999930381775]\n",
      "Loss dla danych tresnowanych: [0.26306748390197754, 0.105160653591156, 0.07260219007730484]\n",
      "Accuracy dla danych trenowanych: [0.9222666621208191, 0.9676833152770996, 0.9772499799728394]\n"
     ]
    }
   ],
   "source": [
    "val_loss, val_acc,loss,acc, training_time = create_model_with_history_for_all_epochs()\n",
    "print(\"Trenowanie trwało: \" + str(training_time) + \" sekund\")\n",
    "print(\"Loss dla danych testowych: \" + str(val_loss))\n",
    "print(\"Accuracy dla danych testowych: \" + str(val_acc))\n",
    "print(\"Loss dla danych tresnowanych: \" + str(loss)) \n",
    "print(\"Accuracy dla danych trenowanych: \" + str(acc))"
   ]
  },
  {
   "cell_type": "code",
   "execution_count": null,
   "outputs": [],
   "source": [],
   "metadata": {
    "collapsed": false,
    "pycharm": {
     "name": "#%%\n"
    }
   }
  },
  {
   "cell_type": "code",
   "execution_count": null,
   "metadata": {},
   "outputs": [],
   "source": []
  }
 ],
 "metadata": {
  "anaconda-cloud": {},
  "kernelspec": {
   "display_name": "Python 3",
   "language": "python",
   "name": "python3"
  },
  "language_info": {
   "codemirror_mode": {
    "name": "ipython",
    "version": 3
   },
   "file_extension": ".py",
   "mimetype": "text/x-python",
   "name": "python",
   "nbconvert_exporter": "python",
   "pygments_lexer": "ipython3",
   "version": "3.8.3-final"
  }
 },
 "nbformat": 4,
 "nbformat_minor": 4
}