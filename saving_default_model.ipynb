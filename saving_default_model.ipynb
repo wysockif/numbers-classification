{
 "cells": [
  {
   "cell_type": "code",
   "execution_count": 1,
   "metadata": {},
   "outputs": [
    {
     "name": "stdout",
     "output_type": "stream",
     "text": [
      "importing Jupyter notebook from basic_create_model_function.ipynb\n",
      "Trenuję: \n",
      "1875/1875 [==============================] - 2s 893us/step - loss: 0.4787 - accuracy: 0.8627\n",
      "313/313 [==============================] - 0s 766us/step - loss: 0.1422 - accuracy: 0.9575\n",
      "1875/1875 [==============================] - 2s 1ms/step - loss: 0.1062 - accuracy: 0.9673\n",
      "313/313 [==============================] - 0s 879us/step - loss: 0.1054 - accuracy: 0.9666\n",
      "1875/1875 [==============================] - 2s 951us/step - loss: 0.0726 - accuracy: 0.9766\n",
      "313/313 [==============================] - 0s 796us/step - loss: 0.0910 - accuracy: 0.9718\n",
      "\n",
      "Trenowanie trwało: [2.2238993644714355, 2.230804920196533, 1.8820621967315674] sekund\n",
      "Loss dla danych testowych: [0.14216822385787964, 0.10542690753936768, 0.09101734310388565]\n",
      "Metryka dla danych testowych: [0.9574999809265137, 0.9666000008583069, 0.9718000292778015]\n",
      "Loss dla danych trenowanych - uczących: [0.26206275820732117, 0.10619110614061356, 0.07261548936367035]\n",
      "Metryka dla danych trenowanych - uczących: [0.9226166605949402, 0.9673333168029785, 0.9766499996185303]\n",
      "Trenuję: \n",
      "1875/1875 [==============================] - 3s 1ms/step - loss: 0.4774 - accuracy: 0.8630\n",
      "313/313 [==============================] - 0s 871us/step - loss: 0.1299 - accuracy: 0.9598\n",
      "1875/1875 [==============================] - 2s 1ms/step - loss: 0.1070 - accuracy: 0.9672\n",
      "313/313 [==============================] - 0s 792us/step - loss: 0.0988 - accuracy: 0.9692\n",
      "1875/1875 [==============================] - 2s 1ms/step - loss: 0.0725 - accuracy: 0.9775\n",
      "313/313 [==============================] - 0s 789us/step - loss: 0.0862 - accuracy: 0.9737\n",
      "\n",
      "Trenowanie trwało: [2.6330795288085938, 2.041724681854248, 2.27482271194458] sekund\n",
      "Loss dla danych testowych: [0.1298859715461731, 0.09881425648927689, 0.08616775274276733]\n",
      "Metryka dla danych testowych: [0.9598000049591064, 0.9692000150680542, 0.9736999869346619]\n",
      "Loss dla danych trenowanych - uczących: [0.2627106308937073, 0.10702817887067795, 0.0725434273481369]\n",
      "Metryka dla danych trenowanych - uczących: [0.9229000210762024, 0.9672166705131531, 0.9775166511535645]\n"
     ]
    }
   ],
   "source": [
    "import import_ipynb\n",
    "import basic_create_model_function as al\n",
    "import tensorflow.keras as keras\n",
    "import tensorflow as tf \n",
    "import matplotlib.pyplot as plt\n",
    "import pandas as pd\n",
    "import numpy as np\n",
    "import seaborn as sns"
   ]
  },
  {
   "cell_type": "code",
   "execution_count": 2,
   "metadata": {},
   "outputs": [
    {
     "name": "stdout",
     "output_type": "stream",
     "text": [
      "Trenuję: \n",
      "1875/1875 [==============================] - 2s 899us/step - loss: 0.4623 - accuracy: 0.8751\n",
      "313/313 [==============================] - 0s 751us/step - loss: 0.1365 - accuracy: 0.9583\n",
      "1875/1875 [==============================] - 2s 1ms/step - loss: 0.1081 - accuracy: 0.9661\n",
      "313/313 [==============================] - 0s 804us/step - loss: 0.1021 - accuracy: 0.9682\n",
      "1875/1875 [==============================] - 2s 1ms/step - loss: 0.0744 - accuracy: 0.9768\n",
      "313/313 [==============================] - 0s 795us/step - loss: 0.0975 - accuracy: 0.9690\n"
     ]
    }
   ],
   "source": [
    "val_loss, val_acc, loss, acc, trains_time, model = al.create_model_with_history_for_all_epochs()"
   ]
  },
  {
   "cell_type": "code",
   "execution_count": 3,
   "metadata": {},
   "outputs": [
    {
     "name": "stdout",
     "output_type": "stream",
     "text": [
      "INFO:tensorflow:Assets written to: default_parameters.model\\assets\n"
     ]
    }
   ],
   "source": [
    "model.save('default_parameters.model')"
   ]
  }
 ],
 "metadata": {
  "kernelspec": {
   "display_name": "Python 3.8.3 64-bit ('wysoc': virtualenv)",
   "language": "python",
   "name": "python38364bitwysocvirtualenv9e4a190ee59f4fc8960a2c4f2382dc7a"
  },
  "language_info": {
   "codemirror_mode": {
    "name": "ipython",
    "version": 3
   },
   "file_extension": ".py",
   "mimetype": "text/x-python",
   "name": "python",
   "nbconvert_exporter": "python",
   "pygments_lexer": "ipython3",
   "version": "3.8.3"
  }
 },
 "nbformat": 4,
 "nbformat_minor": 4
}
