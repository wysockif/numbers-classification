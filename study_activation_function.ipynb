{
 "cells": [
  {
   "source": [
    "# # Badanie rożnych funkcji  aktywacyjnych "
   ],
   "cell_type": "markdown",
   "metadata": {}
  },
  {
   "cell_type": "code",
   "execution_count": 8,
   "metadata": {
    "collapsed": true
   },
   "outputs": [],
   "source": [
    "import import_ipynb\n",
    "import basic_create_model_function as al\n",
    "import tensorflow.keras as keras\n",
    "import tensorflow as tf \n",
    "import matplotlib.pyplot as plt\n",
    "import pandas as pd\n"
   ]
  },
  {
   "source": [
    "Co to jest funckja aktywacyjna? \n",
    "* Jest to równania matematyczne, które określają wyjście pojedynczego neurona,które przyjmuje normalizowane wartości od zakresu od 1 do 0 lub od -1 do 1. \n",
    "* Każdy neuron ma wagę, a pomnożenie liczby wejściowej przez wagę daje wynik neuronu, który jest przenoszony do następnej warstwy.\n"
   ],
   "cell_type": "markdown",
   "metadata": {}
  },
  {
   "source": [
    "Informacje ogolne o badanym modelu:\n",
    "* Badanym przez nas siec neuronowa to siec gesta (Dense), ktory każdy neuron jest połaczyn z każdym neuronem z kolejne warstwy wiec każdy neuron jest zawsze aktywowany.\n",
    "* W deep learning wykorzystuje się funkcje nie liniowe ,ponieważ dla funkcji liniowych nie ma znaczenia ilość warst (zawsze i tak jest jedna warstwa)."
   ],
   "cell_type": "markdown",
   "metadata": {}
  },
  {
   "source": [],
   "cell_type": "markdown",
   "metadata": {}
  },
  {
   "source": [
    "W badaniu zajmie sie nastepny funkcja aktywacyjnych, ktore znajdują się w biblotece Keras:\n",
    "* relu\n",
    "* sigmoid \n",
    "* softplus \n",
    "* softsing \n",
    "* tanh \n",
    "* selu \n",
    "* elu\n",
    "* swish\n",
    "\n"
   ],
   "cell_type": "markdown",
   "metadata": {}
  },
  {
   "source": [],
   "cell_type": "markdown",
   "metadata": {}
  },
  {
   "cell_type": "code",
   "execution_count": 9,
   "metadata": {
    "tags": []
   },
   "outputs": [],
   "source": [
    "list_activaton_function =   [ tf.nn.relu,tf.nn.sigmoid,tf.nn.softplus, tf.nn.softsign,tf.nn.tanh, tf.nn.selu, tf.nn.elu, tf.nn.swish ]\n",
    "name_activation_function =  ['relu','sigmoid','softplus','softsing','tanh','selu','elu','swish']"
   ]
  },
  {
   "cell_type": "code",
   "execution_count": 10,
   "metadata": {
    "tags": [
     "outputPrepend"
    ]
   },
   "outputs": [
    {
     "output_type": "stream",
     "name": "stdout",
     "text": [
      "1875/1875 [==============================] - 3s 1ms/step - loss: 0.9634 - accuracy: 0.7295\n",
      "313/313 [==============================] - 0s 711us/step - loss: 0.2569 - accuracy: 0.9256\n",
      "1875/1875 [==============================] - 2s 1ms/step - loss: 0.2221 - accuracy: 0.9338\n",
      "313/313 [==============================] - 0s 782us/step - loss: 0.1876 - accuracy: 0.9425\n",
      "1875/1875 [==============================] - 2s 1ms/step - loss: 0.1673 - accuracy: 0.9493\n",
      "313/313 [==============================] - 0s 770us/step - loss: 0.1581 - accuracy: 0.9534\n",
      "Trenuję: \n",
      "1875/1875 [==============================] - 3s 1ms/step - loss: 0.9548 - accuracy: 0.7303\n",
      "313/313 [==============================] - 0s 742us/step - loss: 0.2560 - accuracy: 0.9225\n",
      "1875/1875 [==============================] - 2s 1ms/step - loss: 0.2216 - accuracy: 0.9344\n",
      "313/313 [==============================] - 0s 777us/step - loss: 0.1940 - accuracy: 0.9412\n",
      "1875/1875 [==============================] - 2s 1ms/step - loss: 0.1629 - accuracy: 0.9507\n",
      "313/313 [==============================] - 0s 865us/step - loss: 0.1551 - accuracy: 0.9531\n",
      "Trenuję: \n",
      "1875/1875 [==============================] - 3s 1ms/step - loss: 0.9504 - accuracy: 0.7415\n",
      "313/313 [==============================] - 0s 734us/step - loss: 0.2523 - accuracy: 0.9258\n",
      "1875/1875 [==============================] - 2s 1ms/step - loss: 0.2222 - accuracy: 0.9343\n",
      "313/313 [==============================] - 0s 800us/step - loss: 0.1962 - accuracy: 0.9405\n",
      "1875/1875 [==============================] - 2s 1ms/step - loss: 0.1649 - accuracy: 0.9507\n",
      "313/313 [==============================] - 0s 780us/step - loss: 0.1569 - accuracy: 0.9528\n",
      "Trenuję: \n",
      "1875/1875 [==============================] - 3s 1ms/step - loss: 0.9584 - accuracy: 0.7318\n",
      "313/313 [==============================] - 0s 726us/step - loss: 0.2578 - accuracy: 0.9232\n",
      "1875/1875 [==============================] - 2s 1ms/step - loss: 0.2201 - accuracy: 0.9349\n",
      "313/313 [==============================] - 0s 788us/step - loss: 0.1934 - accuracy: 0.9421\n",
      "1875/1875 [==============================] - 2s 1ms/step - loss: 0.1621 - accuracy: 0.9517\n",
      "313/313 [==============================] - 0s 778us/step - loss: 0.1553 - accuracy: 0.9517\n",
      "Trenuję: \n",
      "1875/1875 [==============================] - 3s 1ms/step - loss: 0.9413 - accuracy: 0.7337\n",
      "313/313 [==============================] - 0s 731us/step - loss: 0.2611 - accuracy: 0.9230\n",
      "1875/1875 [==============================] - 2s 1ms/step - loss: 0.2226 - accuracy: 0.9339\n",
      "313/313 [==============================] - 0s 767us/step - loss: 0.1948 - accuracy: 0.9404\n",
      "1875/1875 [==============================] - 2s 1ms/step - loss: 0.1642 - accuracy: 0.9508\n",
      "313/313 [==============================] - 0s 822us/step - loss: 0.1463 - accuracy: 0.9546\n",
      "Trenuję: \n",
      "1875/1875 [==============================] - 2s 1ms/step - loss: 0.9348 - accuracy: 0.7401\n",
      "313/313 [==============================] - 0s 727us/step - loss: 0.2578 - accuracy: 0.9246\n",
      "1875/1875 [==============================] - 2s 1ms/step - loss: 0.2230 - accuracy: 0.9340\n",
      "313/313 [==============================] - 0s 771us/step - loss: 0.1964 - accuracy: 0.9394\n",
      "1875/1875 [==============================] - 2s 1ms/step - loss: 0.1671 - accuracy: 0.9496\n",
      "313/313 [==============================] - 0s 773us/step - loss: 0.1656 - accuracy: 0.9482\n",
      "Trenuję: \n",
      "1875/1875 [==============================] - 2s 1ms/step - loss: 0.9520 - accuracy: 0.7360\n",
      "313/313 [==============================] - 0s 770us/step - loss: 0.2598 - accuracy: 0.9222\n",
      "1875/1875 [==============================] - 2s 1ms/step - loss: 0.2235 - accuracy: 0.9331\n",
      "313/313 [==============================] - 0s 769us/step - loss: 0.1848 - accuracy: 0.9421\n",
      "1875/1875 [==============================] - 2s 1ms/step - loss: 0.1663 - accuracy: 0.9502\n",
      "313/313 [==============================] - 0s 793us/step - loss: 0.1523 - accuracy: 0.9540\n",
      "Trenuję: \n",
      "1875/1875 [==============================] - 3s 1ms/step - loss: 0.9494 - accuracy: 0.7359\n",
      "313/313 [==============================] - 0s 724us/step - loss: 0.2608 - accuracy: 0.9248\n",
      "1875/1875 [==============================] - 2s 1ms/step - loss: 0.2255 - accuracy: 0.9331\n",
      "313/313 [==============================] - 0s 779us/step - loss: 0.1952 - accuracy: 0.9422\n",
      "1875/1875 [==============================] - 2s 1ms/step - loss: 0.1670 - accuracy: 0.9503\n",
      "313/313 [==============================] - 0s 780us/step - loss: 0.1567 - accuracy: 0.9522\n",
      "Trenuję: \n",
      "1875/1875 [==============================] - 2s 1ms/step - loss: 0.9654 - accuracy: 0.7206\n",
      "313/313 [==============================] - 0s 723us/step - loss: 0.2561 - accuracy: 0.9243\n",
      "1875/1875 [==============================] - 2s 1ms/step - loss: 0.2224 - accuracy: 0.9342\n",
      "313/313 [==============================] - 0s 772us/step - loss: 0.1939 - accuracy: 0.9407\n",
      "1875/1875 [==============================] - 2s 1ms/step - loss: 0.1658 - accuracy: 0.9502\n",
      "313/313 [==============================] - 0s 767us/step - loss: 0.1522 - accuracy: 0.9520\n",
      "Trenuję: \n",
      "1875/1875 [==============================] - 3s 1ms/step - loss: 0.9489 - accuracy: 0.7416\n",
      "313/313 [==============================] - 0s 789us/step - loss: 0.2554 - accuracy: 0.9250\n",
      "1875/1875 [==============================] - 2s 1ms/step - loss: 0.2231 - accuracy: 0.9340\n",
      "313/313 [==============================] - 0s 779us/step - loss: 0.1905 - accuracy: 0.9411\n",
      "1875/1875 [==============================] - 2s 1ms/step - loss: 0.1667 - accuracy: 0.9502\n",
      "313/313 [==============================] - 0s 796us/step - loss: 0.1570 - accuracy: 0.9521\n",
      "Trenuję: \n",
      "1875/1875 [==============================] - 3s 1ms/step - loss: 0.9599 - accuracy: 0.7392\n",
      "313/313 [==============================] - 0s 763us/step - loss: 0.2563 - accuracy: 0.9251\n",
      "1875/1875 [==============================] - 2s 1ms/step - loss: 0.2248 - accuracy: 0.9334\n",
      "313/313 [==============================] - 0s 832us/step - loss: 0.1948 - accuracy: 0.9414\n",
      "1875/1875 [==============================] - 2s 1ms/step - loss: 0.1677 - accuracy: 0.9507\n",
      "313/313 [==============================] - 0s 1ms/step - loss: 0.1531 - accuracy: 0.9542\n",
      "Trenuję: \n",
      "1875/1875 [==============================] - 3s 1ms/step - loss: 0.9585 - accuracy: 0.7382\n",
      "313/313 [==============================] - 0s 787us/step - loss: 0.2531 - accuracy: 0.9235\n",
      "1875/1875 [==============================] - 2s 1ms/step - loss: 0.2225 - accuracy: 0.9343\n",
      "313/313 [==============================] - 0s 756us/step - loss: 0.1834 - accuracy: 0.9427\n",
      "1875/1875 [==============================] - 2s 1ms/step - loss: 0.1658 - accuracy: 0.9496\n",
      "313/313 [==============================] - 0s 736us/step - loss: 0.1577 - accuracy: 0.9519\n",
      "Trenuję: \n",
      "1875/1875 [==============================] - 2s 1ms/step - loss: 0.9433 - accuracy: 0.7321\n",
      "313/313 [==============================] - 0s 775us/step - loss: 0.2647 - accuracy: 0.9227\n",
      "1875/1875 [==============================] - 2s 1ms/step - loss: 0.2248 - accuracy: 0.9328\n",
      "313/313 [==============================] - 0s 743us/step - loss: 0.1953 - accuracy: 0.9416\n",
      "1875/1875 [==============================] - 2s 1ms/step - loss: 0.1667 - accuracy: 0.9502\n",
      "313/313 [==============================] - 0s 735us/step - loss: 0.1614 - accuracy: 0.9526\n",
      "Trenuję: \n",
      "1875/1875 [==============================] - 2s 1ms/step - loss: 0.9578 - accuracy: 0.7314\n",
      "313/313 [==============================] - 1s 619us/step - loss: 0.2554 - accuracy: 0.9261\n",
      "1875/1875 [==============================] - 2s 1ms/step - loss: 0.2220 - accuracy: 0.9339\n",
      "313/313 [==============================] - 0s 796us/step - loss: 0.1884 - accuracy: 0.9420\n",
      "1875/1875 [==============================] - 2s 1ms/step - loss: 0.1650 - accuracy: 0.9500\n",
      "313/313 [==============================] - 0s 756us/step - loss: 0.1452 - accuracy: 0.9560\n",
      "Trenuję: \n",
      "1875/1875 [==============================] - 2s 1ms/step - loss: 0.9691 - accuracy: 0.7271\n",
      "313/313 [==============================] - 0s 778us/step - loss: 0.2625 - accuracy: 0.9196\n",
      "1875/1875 [==============================] - 2s 1ms/step - loss: 0.2256 - accuracy: 0.9335\n",
      "313/313 [==============================] - 0s 779us/step - loss: 0.1889 - accuracy: 0.9427\n",
      "1875/1875 [==============================] - 2s 1ms/step - loss: 0.1680 - accuracy: 0.9499\n",
      "313/313 [==============================] - 0s 746us/step - loss: 0.1614 - accuracy: 0.9496\n",
      "Trenuję: \n",
      "1875/1875 [==============================] - 2s 1ms/step - loss: 0.9395 - accuracy: 0.7387\n",
      "313/313 [==============================] - 0s 719us/step - loss: 0.2691 - accuracy: 0.9210\n",
      "1875/1875 [==============================] - 2s 1ms/step - loss: 0.2227 - accuracy: 0.9342\n",
      "313/313 [==============================] - 0s 882us/step - loss: 0.1924 - accuracy: 0.9423\n",
      "1875/1875 [==============================] - 2s 1ms/step - loss: 0.1664 - accuracy: 0.9510\n",
      "313/313 [==============================] - 0s 770us/step - loss: 0.1523 - accuracy: 0.9531\n",
      "Trenuję: \n",
      "1875/1875 [==============================] - 2s 1ms/step - loss: 0.9374 - accuracy: 0.7475\n",
      "313/313 [==============================] - 1s 1ms/step - loss: 0.2517 - accuracy: 0.9258\n",
      "1875/1875 [==============================] - 3s 1ms/step - loss: 0.2211 - accuracy: 0.9347\n",
      "313/313 [==============================] - 0s 782us/step - loss: 0.1860 - accuracy: 0.9440\n",
      "1875/1875 [==============================] - 2s 1ms/step - loss: 0.1629 - accuracy: 0.9503\n",
      "313/313 [==============================] - 0s 820us/step - loss: 0.1483 - accuracy: 0.9539\n",
      "Trenuję: \n",
      "1875/1875 [==============================] - 3s 1ms/step - loss: 0.9476 - accuracy: 0.7337\n",
      "313/313 [==============================] - 0s 737us/step - loss: 0.2567 - accuracy: 0.9244\n",
      "1875/1875 [==============================] - 2s 1ms/step - loss: 0.2171 - accuracy: 0.9343\n",
      "313/313 [==============================] - 0s 797us/step - loss: 0.1850 - accuracy: 0.9446\n",
      "1875/1875 [==============================] - 2s 1ms/step - loss: 0.1617 - accuracy: 0.9516\n",
      "313/313 [==============================] - 0s 796us/step - loss: 0.1580 - accuracy: 0.9513\n",
      "Trenuję: \n",
      "1875/1875 [==============================] - 2s 1ms/step - loss: 0.9452 - accuracy: 0.7392\n",
      "313/313 [==============================] - 0s 748us/step - loss: 0.2564 - accuracy: 0.9260\n",
      "1875/1875 [==============================] - 2s 1ms/step - loss: 0.2198 - accuracy: 0.9351\n",
      "313/313 [==============================] - 0s 793us/step - loss: 0.1875 - accuracy: 0.9425\n",
      "1875/1875 [==============================] - 2s 1ms/step - loss: 0.1629 - accuracy: 0.9518\n",
      "313/313 [==============================] - 0s 786us/step - loss: 0.1494 - accuracy: 0.9542\n",
      "Trenuję: \n",
      "1875/1875 [==============================] - 2s 1ms/step - loss: 0.9819 - accuracy: 0.7295\n",
      "313/313 [==============================] - 0s 811us/step - loss: 0.2498 - accuracy: 0.9254\n",
      "1875/1875 [==============================] - 2s 1ms/step - loss: 0.2207 - accuracy: 0.9348\n",
      "313/313 [==============================] - 0s 803us/step - loss: 0.1859 - accuracy: 0.9436\n",
      "1875/1875 [==============================] - 2s 1ms/step - loss: 0.1635 - accuracy: 0.9514\n",
      "313/313 [==============================] - 0s 796us/step - loss: 0.1480 - accuracy: 0.9549\n",
      "Trenuję: \n",
      "1875/1875 [==============================] - 3s 1ms/step - loss: 0.9536 - accuracy: 0.7329\n",
      "313/313 [==============================] - 0s 721us/step - loss: 0.2585 - accuracy: 0.9259\n",
      "1875/1875 [==============================] - 2s 1ms/step - loss: 0.2241 - accuracy: 0.9337\n",
      "313/313 [==============================] - 0s 784us/step - loss: 0.1858 - accuracy: 0.9421\n",
      "1875/1875 [==============================] - 2s 1ms/step - loss: 0.1665 - accuracy: 0.9502\n",
      "313/313 [==============================] - 0s 780us/step - loss: 0.1646 - accuracy: 0.9490\n",
      "Trenuję: \n",
      "1875/1875 [==============================] - 3s 1ms/step - loss: 0.9549 - accuracy: 0.7369\n",
      "313/313 [==============================] - 0s 752us/step - loss: 0.2590 - accuracy: 0.9225\n",
      "1875/1875 [==============================] - 2s 1ms/step - loss: 0.2194 - accuracy: 0.9347\n",
      "313/313 [==============================] - 0s 805us/step - loss: 0.1852 - accuracy: 0.9421\n",
      "1875/1875 [==============================] - 2s 1ms/step - loss: 0.1611 - accuracy: 0.9519\n",
      "313/313 [==============================] - 0s 756us/step - loss: 0.1459 - accuracy: 0.9544\n",
      "Trenuję: \n",
      "1875/1875 [==============================] - 2s 1ms/step - loss: 0.9400 - accuracy: 0.7345\n",
      "313/313 [==============================] - 0s 828us/step - loss: 0.2630 - accuracy: 0.9219\n",
      "1875/1875 [==============================] - 2s 1ms/step - loss: 0.2218 - accuracy: 0.9334\n",
      "313/313 [==============================] - 0s 762us/step - loss: 0.1863 - accuracy: 0.9439\n",
      "1875/1875 [==============================] - 2s 1ms/step - loss: 0.1643 - accuracy: 0.9505\n",
      "313/313 [==============================] - 0s 765us/step - loss: 0.1547 - accuracy: 0.9539\n",
      "Trenuję: \n",
      "1875/1875 [==============================] - 3s 1ms/step - loss: 0.9494 - accuracy: 0.7445\n",
      "313/313 [==============================] - 0s 725us/step - loss: 0.2545 - accuracy: 0.9249\n",
      "1875/1875 [==============================] - 2s 1ms/step - loss: 0.2214 - accuracy: 0.9345\n",
      "313/313 [==============================] - 0s 769us/step - loss: 0.1877 - accuracy: 0.9424\n",
      "1875/1875 [==============================] - 2s 1ms/step - loss: 0.1643 - accuracy: 0.9505\n",
      "313/313 [==============================] - 0s 816us/step - loss: 0.1528 - accuracy: 0.9537\n",
      "Trenuję: \n",
      "1875/1875 [==============================] - 2s 1ms/step - loss: 0.9457 - accuracy: 0.7274\n",
      "313/313 [==============================] - 0s 734us/step - loss: 0.2573 - accuracy: 0.9243\n",
      "1875/1875 [==============================] - 2s 1ms/step - loss: 0.2231 - accuracy: 0.9340\n",
      "313/313 [==============================] - 0s 774us/step - loss: 0.1913 - accuracy: 0.9422\n",
      "1875/1875 [==============================] - 2s 1ms/step - loss: 0.1680 - accuracy: 0.9500\n",
      "313/313 [==============================] - 0s 784us/step - loss: 0.1619 - accuracy: 0.9512\n",
      "Trenuję: \n",
      "1875/1875 [==============================] - 3s 1ms/step - loss: 0.9522 - accuracy: 0.7353\n",
      "313/313 [==============================] - 0s 729us/step - loss: 0.2567 - accuracy: 0.9241\n",
      "1875/1875 [==============================] - 2s 1ms/step - loss: 0.2217 - accuracy: 0.9335\n",
      "313/313 [==============================] - 0s 791us/step - loss: 0.1931 - accuracy: 0.9415\n",
      "1875/1875 [==============================] - 2s 1ms/step - loss: 0.1631 - accuracy: 0.9512\n",
      "313/313 [==============================] - 0s 798us/step - loss: 0.1524 - accuracy: 0.9519\n",
      "Trenuję: \n",
      "1875/1875 [==============================] - 3s 1ms/step - loss: 0.9615 - accuracy: 0.7388\n",
      "313/313 [==============================] - 0s 727us/step - loss: 0.2616 - accuracy: 0.9245\n",
      "1875/1875 [==============================] - 2s 1ms/step - loss: 0.2164 - accuracy: 0.9361\n",
      "313/313 [==============================] - 0s 798us/step - loss: 0.1816 - accuracy: 0.9447\n",
      "1875/1875 [==============================] - 2s 1ms/step - loss: 0.1592 - accuracy: 0.9520\n",
      "313/313 [==============================] - 0s 873us/step - loss: 0.1423 - accuracy: 0.9551\n",
      "Trenuję: \n",
      "1875/1875 [==============================] - 2s 1ms/step - loss: 0.9672 - accuracy: 0.7372\n",
      "313/313 [==============================] - 0s 729us/step - loss: 0.2595 - accuracy: 0.9230\n",
      "1875/1875 [==============================] - 2s 1ms/step - loss: 0.2249 - accuracy: 0.9335\n",
      "313/313 [==============================] - 0s 783us/step - loss: 0.1888 - accuracy: 0.9419\n",
      "1875/1875 [==============================] - 2s 1ms/step - loss: 0.1665 - accuracy: 0.9510\n",
      "313/313 [==============================] - 0s 869us/step - loss: 0.1556 - accuracy: 0.9519\n",
      "Trenuję: \n",
      "1875/1875 [==============================] - 3s 1ms/step - loss: 0.9431 - accuracy: 0.7408\n",
      "313/313 [==============================] - 0s 738us/step - loss: 0.2564 - accuracy: 0.9236\n",
      "1875/1875 [==============================] - 2s 1ms/step - loss: 0.2208 - accuracy: 0.9340\n",
      "313/313 [==============================] - 0s 786us/step - loss: 0.1855 - accuracy: 0.9429\n",
      "1875/1875 [==============================] - 2s 1ms/step - loss: 0.1648 - accuracy: 0.9502\n",
      "313/313 [==============================] - 0s 799us/step - loss: 0.1563 - accuracy: 0.9518\n",
      "Trenuję: \n",
      "1875/1875 [==============================] - 2s 1ms/step - loss: 0.9662 - accuracy: 0.7333\n",
      "313/313 [==============================] - 0s 737us/step - loss: 0.2535 - accuracy: 0.9267\n",
      "1875/1875 [==============================] - 2s 1ms/step - loss: 0.2210 - accuracy: 0.9340\n",
      "313/313 [==============================] - 0s 762us/step - loss: 0.1865 - accuracy: 0.9439\n",
      "1875/1875 [==============================] - 2s 1ms/step - loss: 0.1646 - accuracy: 0.9511\n",
      "313/313 [==============================] - 0s 886us/step - loss: 0.1502 - accuracy: 0.9542\n",
      "Trenuję: \n",
      "1875/1875 [==============================] - 3s 1ms/step - loss: 0.9626 - accuracy: 0.7335\n",
      "313/313 [==============================] - 0s 730us/step - loss: 0.2572 - accuracy: 0.9221\n",
      "1875/1875 [==============================] - 2s 1ms/step - loss: 0.2222 - accuracy: 0.9335\n",
      "313/313 [==============================] - 0s 792us/step - loss: 0.1968 - accuracy: 0.9402\n",
      "1875/1875 [==============================] - 2s 1ms/step - loss: 0.1649 - accuracy: 0.9506\n",
      "313/313 [==============================] - 0s 793us/step - loss: 0.1466 - accuracy: 0.9545\n",
      "Trenuję: \n",
      "1875/1875 [==============================] - 2s 1ms/step - loss: 0.9593 - accuracy: 0.7354\n",
      "313/313 [==============================] - 0s 721us/step - loss: 0.2556 - accuracy: 0.9256\n",
      "1875/1875 [==============================] - 2s 1ms/step - loss: 0.2192 - accuracy: 0.9343\n",
      "313/313 [==============================] - 0s 763us/step - loss: 0.1874 - accuracy: 0.9437\n",
      "1875/1875 [==============================] - 2s 1ms/step - loss: 0.1632 - accuracy: 0.9512\n",
      "313/313 [==============================] - 0s 779us/step - loss: 0.1482 - accuracy: 0.9550\n",
      "Trenuję: \n",
      "1875/1875 [==============================] - 3s 1ms/step - loss: 0.9513 - accuracy: 0.7355\n",
      "313/313 [==============================] - 0s 1ms/step - loss: 0.2581 - accuracy: 0.9232\n",
      "1875/1875 [==============================] - 2s 1ms/step - loss: 0.2212 - accuracy: 0.9345\n",
      "313/313 [==============================] - 0s 779us/step - loss: 0.1929 - accuracy: 0.9420\n",
      "1875/1875 [==============================] - 2s 1ms/step - loss: 0.1655 - accuracy: 0.9503\n",
      "313/313 [==============================] - 0s 830us/step - loss: 0.1584 - accuracy: 0.9509\n",
      "Trenuję: \n",
      "1875/1875 [==============================] - 3s 1ms/step - loss: 0.9419 - accuracy: 0.7391\n",
      "313/313 [==============================] - 0s 759us/step - loss: 0.2542 - accuracy: 0.9248\n",
      "1875/1875 [==============================] - 2s 1ms/step - loss: 0.2193 - accuracy: 0.9348\n",
      "313/313 [==============================] - 0s 775us/step - loss: 0.1821 - accuracy: 0.9440\n",
      "1875/1875 [==============================] - 2s 1ms/step - loss: 0.1625 - accuracy: 0.9514\n",
      "313/313 [==============================] - 0s 769us/step - loss: 0.1460 - accuracy: 0.9531\n",
      "Trenuję: \n",
      "1875/1875 [==============================] - 3s 1ms/step - loss: 0.9642 - accuracy: 0.7363\n",
      "313/313 [==============================] - 0s 710us/step - loss: 0.2560 - accuracy: 0.9248\n",
      "1875/1875 [==============================] - 2s 1ms/step - loss: 0.2214 - accuracy: 0.9340\n",
      "313/313 [==============================] - 0s 756us/step - loss: 0.1992 - accuracy: 0.9426\n",
      "1875/1875 [==============================] - 2s 1ms/step - loss: 0.1641 - accuracy: 0.9506\n",
      "313/313 [==============================] - 0s 775us/step - loss: 0.1555 - accuracy: 0.9538\n",
      "Trenuję: \n",
      "1875/1875 [==============================] - 3s 1ms/step - loss: 0.9568 - accuracy: 0.7415\n",
      "313/313 [==============================] - 0s 701us/step - loss: 0.2557 - accuracy: 0.9235\n",
      "1875/1875 [==============================] - 2s 1ms/step - loss: 0.2230 - accuracy: 0.9336\n",
      "313/313 [==============================] - 0s 773us/step - loss: 0.1993 - accuracy: 0.9392\n",
      "1875/1875 [==============================] - 2s 1ms/step - loss: 0.1670 - accuracy: 0.9507\n",
      "313/313 [==============================] - 0s 753us/step - loss: 0.1542 - accuracy: 0.9530\n"
     ]
    },
    {
     "output_type": "execute_result",
     "data": {
      "text/plain": [
       "   activation  val_loss  val_acc      loss       acc  trains_time\n",
       "0        relu  0.147918   0.9542  0.162028  0.951167     5.797830\n",
       "1     sigmoid  0.152047   0.9540  0.165081  0.950800     6.654206\n",
       "2    softplus  0.151371   0.9545  0.166093  0.949933     7.510955\n",
       "3    softsing  0.147790   0.9546  0.162095  0.952133     7.472779\n",
       "4        tanh  0.158905   0.9525  0.167693  0.949933     7.459931\n",
       "..        ...       ...      ...       ...       ...          ...\n",
       "75   softsing  0.148201   0.9550  0.163190  0.951200     7.631584\n",
       "76       tanh  0.158388   0.9509  0.165531  0.950267     7.675319\n",
       "77       selu  0.146049   0.9531  0.162500  0.951450     7.668787\n",
       "78        elu  0.155477   0.9538  0.164126  0.950633     7.686731\n",
       "79      swish  0.154166   0.9530  0.167015  0.950733     7.611072\n",
       "\n",
       "[80 rows x 6 columns]"
      ],
      "text/html": "<div>\n<style scoped>\n    .dataframe tbody tr th:only-of-type {\n        vertical-align: middle;\n    }\n\n    .dataframe tbody tr th {\n        vertical-align: top;\n    }\n\n    .dataframe thead th {\n        text-align: right;\n    }\n</style>\n<table border=\"1\" class=\"dataframe\">\n  <thead>\n    <tr style=\"text-align: right;\">\n      <th></th>\n      <th>activation</th>\n      <th>val_loss</th>\n      <th>val_acc</th>\n      <th>loss</th>\n      <th>acc</th>\n      <th>trains_time</th>\n    </tr>\n  </thead>\n  <tbody>\n    <tr>\n      <th>0</th>\n      <td>relu</td>\n      <td>0.147918</td>\n      <td>0.9542</td>\n      <td>0.162028</td>\n      <td>0.951167</td>\n      <td>5.797830</td>\n    </tr>\n    <tr>\n      <th>1</th>\n      <td>sigmoid</td>\n      <td>0.152047</td>\n      <td>0.9540</td>\n      <td>0.165081</td>\n      <td>0.950800</td>\n      <td>6.654206</td>\n    </tr>\n    <tr>\n      <th>2</th>\n      <td>softplus</td>\n      <td>0.151371</td>\n      <td>0.9545</td>\n      <td>0.166093</td>\n      <td>0.949933</td>\n      <td>7.510955</td>\n    </tr>\n    <tr>\n      <th>3</th>\n      <td>softsing</td>\n      <td>0.147790</td>\n      <td>0.9546</td>\n      <td>0.162095</td>\n      <td>0.952133</td>\n      <td>7.472779</td>\n    </tr>\n    <tr>\n      <th>4</th>\n      <td>tanh</td>\n      <td>0.158905</td>\n      <td>0.9525</td>\n      <td>0.167693</td>\n      <td>0.949933</td>\n      <td>7.459931</td>\n    </tr>\n    <tr>\n      <th>...</th>\n      <td>...</td>\n      <td>...</td>\n      <td>...</td>\n      <td>...</td>\n      <td>...</td>\n      <td>...</td>\n    </tr>\n    <tr>\n      <th>75</th>\n      <td>softsing</td>\n      <td>0.148201</td>\n      <td>0.9550</td>\n      <td>0.163190</td>\n      <td>0.951200</td>\n      <td>7.631584</td>\n    </tr>\n    <tr>\n      <th>76</th>\n      <td>tanh</td>\n      <td>0.158388</td>\n      <td>0.9509</td>\n      <td>0.165531</td>\n      <td>0.950267</td>\n      <td>7.675319</td>\n    </tr>\n    <tr>\n      <th>77</th>\n      <td>selu</td>\n      <td>0.146049</td>\n      <td>0.9531</td>\n      <td>0.162500</td>\n      <td>0.951450</td>\n      <td>7.668787</td>\n    </tr>\n    <tr>\n      <th>78</th>\n      <td>elu</td>\n      <td>0.155477</td>\n      <td>0.9538</td>\n      <td>0.164126</td>\n      <td>0.950633</td>\n      <td>7.686731</td>\n    </tr>\n    <tr>\n      <th>79</th>\n      <td>swish</td>\n      <td>0.154166</td>\n      <td>0.9530</td>\n      <td>0.167015</td>\n      <td>0.950733</td>\n      <td>7.611072</td>\n    </tr>\n  </tbody>\n</table>\n<p>80 rows × 6 columns</p>\n</div>"
     },
     "metadata": {},
     "execution_count": 10
    }
   ],
   "source": [
    "df = pd.DataFrame(columns=['activation', 'val_loss', 'val_acc', 'loss', 'acc', 'trains_time'])\n",
    "\n",
    "\n",
    "# urchomienia modelu dla każdego activation  10 krotnie\n",
    "index = 0\n",
    "for i  in range(10):\n",
    "    index_name = 0\n",
    "    for activation in list_activaton_function :\n",
    "        \n",
    "        val_loss, val_acc, loss, acc, trains_time, model = al.create_model_with_history_for_all_epochs(activation= list_activaton_function[1])\n",
    "        \n",
    "        ls = [name_activation_function[index_name],val_loss[-1], val_acc[-1], loss[-1], acc[-1], sum(trains_time)]\n",
    "        \n",
    "        df.loc[index] = ls\n",
    "\n",
    "        index += 1 \n",
    "        index_name += 1 \n",
    "\n",
    "df"
   ]
  },
  {
   "cell_type": "code",
   "execution_count": 11,
   "metadata": {},
   "outputs": [
    {
     "output_type": "execute_result",
     "data": {
      "text/plain": [
       "  activation  val_loss  val_acc      loss       acc  trains_time\n",
       "0        elu  0.152586  0.95288  0.164297  0.950935     7.727168\n",
       "1       relu  0.153652  0.95273  0.164394  0.950675     7.435604\n",
       "2       selu  0.152481  0.95317  0.163798  0.950830     7.834203\n",
       "3    sigmoid  0.150927  0.95401  0.164577  0.950825     7.573808\n",
       "4   softplus  0.154276  0.95295  0.165455  0.950332     7.632756\n",
       "5   softsing  0.151667  0.95362  0.164671  0.950893     7.627961\n",
       "6      swish  0.154189  0.95306  0.164527  0.950842     7.650893\n",
       "7       tanh  0.154179  0.95296  0.165399  0.950355     7.720595"
      ],
      "text/html": "<div>\n<style scoped>\n    .dataframe tbody tr th:only-of-type {\n        vertical-align: middle;\n    }\n\n    .dataframe tbody tr th {\n        vertical-align: top;\n    }\n\n    .dataframe thead th {\n        text-align: right;\n    }\n</style>\n<table border=\"1\" class=\"dataframe\">\n  <thead>\n    <tr style=\"text-align: right;\">\n      <th></th>\n      <th>activation</th>\n      <th>val_loss</th>\n      <th>val_acc</th>\n      <th>loss</th>\n      <th>acc</th>\n      <th>trains_time</th>\n    </tr>\n  </thead>\n  <tbody>\n    <tr>\n      <th>0</th>\n      <td>elu</td>\n      <td>0.152586</td>\n      <td>0.95288</td>\n      <td>0.164297</td>\n      <td>0.950935</td>\n      <td>7.727168</td>\n    </tr>\n    <tr>\n      <th>1</th>\n      <td>relu</td>\n      <td>0.153652</td>\n      <td>0.95273</td>\n      <td>0.164394</td>\n      <td>0.950675</td>\n      <td>7.435604</td>\n    </tr>\n    <tr>\n      <th>2</th>\n      <td>selu</td>\n      <td>0.152481</td>\n      <td>0.95317</td>\n      <td>0.163798</td>\n      <td>0.950830</td>\n      <td>7.834203</td>\n    </tr>\n    <tr>\n      <th>3</th>\n      <td>sigmoid</td>\n      <td>0.150927</td>\n      <td>0.95401</td>\n      <td>0.164577</td>\n      <td>0.950825</td>\n      <td>7.573808</td>\n    </tr>\n    <tr>\n      <th>4</th>\n      <td>softplus</td>\n      <td>0.154276</td>\n      <td>0.95295</td>\n      <td>0.165455</td>\n      <td>0.950332</td>\n      <td>7.632756</td>\n    </tr>\n    <tr>\n      <th>5</th>\n      <td>softsing</td>\n      <td>0.151667</td>\n      <td>0.95362</td>\n      <td>0.164671</td>\n      <td>0.950893</td>\n      <td>7.627961</td>\n    </tr>\n    <tr>\n      <th>6</th>\n      <td>swish</td>\n      <td>0.154189</td>\n      <td>0.95306</td>\n      <td>0.164527</td>\n      <td>0.950842</td>\n      <td>7.650893</td>\n    </tr>\n    <tr>\n      <th>7</th>\n      <td>tanh</td>\n      <td>0.154179</td>\n      <td>0.95296</td>\n      <td>0.165399</td>\n      <td>0.950355</td>\n      <td>7.720595</td>\n    </tr>\n  </tbody>\n</table>\n</div>"
     },
     "metadata": {},
     "execution_count": 11
    }
   ],
   "source": [
    "df_mean = df.groupby(by='activation').mean().reset_index()\n",
    "df_mean"
   ]
  },
  {
   "source": [
    "Jak widać z tabelki wyżej funkcje aktywujace mają bardzo zbliszone wyniki (róznica jest na trzecie cyfrze znaczącej) oprocz dla trains_time.\n",
    "Dlatego uznałem, że jedyny atrybutem, którego ma sensu porównywąć funkcje aktywujace jest czas traningu.\n"
   ],
   "cell_type": "markdown",
   "metadata": {}
  },
  {
   "source": [
    "\n",
    "ax = df_mean.sort_values(by=['trains_time'],ascending=False).plot.barh(stacked=True,title = 'average of time train different activation function', x='activation', y='trains_time',legend=False)\n",
    "ax.set_ylabel(\"activation\")\n",
    "ax.set_xlabel(\"trains_time\")"
   ],
   "cell_type": "code",
   "metadata": {
    "pycharm": {
     "name": "#%%\n"
    }
   },
   "execution_count": 12,
   "outputs": [
    {
     "output_type": "execute_result",
     "data": {
      "text/plain": [
       "Text(0.5, 0, 'trains_time')"
      ]
     },
     "metadata": {},
     "execution_count": 12
    },
    {
     "output_type": "display_data",
     "data": {
      "text/plain": "<Figure size 432x288 with 1 Axes>",
      "image/svg+xml": "<?xml version=\"1.0\" encoding=\"utf-8\" standalone=\"no\"?>\n<!DOCTYPE svg PUBLIC \"-//W3C//DTD SVG 1.1//EN\"\n  \"http://www.w3.org/Graphics/SVG/1.1/DTD/svg11.dtd\">\n<!-- Created with matplotlib (https://matplotlib.org/) -->\n<svg height=\"277.5925pt\" version=\"1.1\" viewBox=\"0 0 409.2 277.5925\" width=\"409.2pt\" xmlns=\"http://www.w3.org/2000/svg\" xmlns:xlink=\"http://www.w3.org/1999/xlink\">\n <defs>\n  <style type=\"text/css\">\n*{stroke-linecap:butt;stroke-linejoin:round;}\n  </style>\n </defs>\n <g id=\"figure_1\">\n  <g id=\"patch_1\">\n   <path d=\"M 0 277.5925 \nL 409.2 277.5925 \nL 409.2 0 \nL 0 0 \nz\n\" style=\"fill:none;\"/>\n  </g>\n  <g id=\"axes_1\">\n   <g id=\"patch_2\">\n    <path d=\"M 67.2 239.758125 \nL 402 239.758125 \nL 402 22.318125 \nL 67.2 22.318125 \nz\n\" style=\"fill:#ffffff;\"/>\n   </g>\n   <g id=\"patch_3\">\n    <path clip-path=\"url(#pa8e122ec12)\" d=\"M 67.2 232.963125 \nL 386.057143 232.963125 \nL 386.057143 219.373125 \nL 67.2 219.373125 \nz\n\" style=\"fill:#1f77b4;\"/>\n   </g>\n   <g id=\"patch_4\">\n    <path clip-path=\"url(#pa8e122ec12)\" d=\"M 67.2 205.783125 \nL 381.70076 205.783125 \nL 381.70076 192.193125 \nL 67.2 192.193125 \nz\n\" style=\"fill:#1f77b4;\"/>\n   </g>\n   <g id=\"patch_5\">\n    <path clip-path=\"url(#pa8e122ec12)\" d=\"M 67.2 178.603125 \nL 381.433212 178.603125 \nL 381.433212 165.013125 \nL 67.2 165.013125 \nz\n\" style=\"fill:#1f77b4;\"/>\n   </g>\n   <g id=\"patch_6\">\n    <path clip-path=\"url(#pa8e122ec12)\" d=\"M 67.2 151.423125 \nL 378.59628 151.423125 \nL 378.59628 137.833125 \nL 67.2 137.833125 \nz\n\" style=\"fill:#1f77b4;\"/>\n   </g>\n   <g id=\"patch_7\">\n    <path clip-path=\"url(#pa8e122ec12)\" d=\"M 67.2 124.243125 \nL 377.858116 124.243125 \nL 377.858116 110.653125 \nL 67.2 110.653125 \nz\n\" style=\"fill:#1f77b4;\"/>\n   </g>\n   <g id=\"patch_8\">\n    <path clip-path=\"url(#pa8e122ec12)\" d=\"M 67.2 97.063125 \nL 377.662945 97.063125 \nL 377.662945 83.473125 \nL 67.2 83.473125 \nz\n\" style=\"fill:#1f77b4;\"/>\n   </g>\n   <g id=\"patch_9\">\n    <path clip-path=\"url(#pa8e122ec12)\" d=\"M 67.2 69.883125 \nL 375.4589 69.883125 \nL 375.4589 56.293125 \nL 67.2 56.293125 \nz\n\" style=\"fill:#1f77b4;\"/>\n   </g>\n   <g id=\"patch_10\">\n    <path clip-path=\"url(#pa8e122ec12)\" d=\"M 67.2 42.703125 \nL 369.833908 42.703125 \nL 369.833908 29.113125 \nL 67.2 29.113125 \nz\n\" style=\"fill:#1f77b4;\"/>\n   </g>\n   <g id=\"matplotlib.axis_1\">\n    <g id=\"xtick_1\">\n     <g id=\"line2d_1\">\n      <defs>\n       <path d=\"M 0 0 \nL 0 3.5 \n\" id=\"mbd48abb2bb\" style=\"stroke:#000000;stroke-width:0.8;\"/>\n      </defs>\n      <g>\n       <use style=\"stroke:#000000;stroke-width:0.8;\" x=\"67.2\" xlink:href=\"#mbd48abb2bb\" y=\"239.758125\"/>\n      </g>\n     </g>\n     <g id=\"text_1\">\n      <!-- 0 -->\n      <defs>\n       <path d=\"M 31.78125 66.40625 \nQ 24.171875 66.40625 20.328125 58.90625 \nQ 16.5 51.421875 16.5 36.375 \nQ 16.5 21.390625 20.328125 13.890625 \nQ 24.171875 6.390625 31.78125 6.390625 \nQ 39.453125 6.390625 43.28125 13.890625 \nQ 47.125 21.390625 47.125 36.375 \nQ 47.125 51.421875 43.28125 58.90625 \nQ 39.453125 66.40625 31.78125 66.40625 \nz\nM 31.78125 74.21875 \nQ 44.046875 74.21875 50.515625 64.515625 \nQ 56.984375 54.828125 56.984375 36.375 \nQ 56.984375 17.96875 50.515625 8.265625 \nQ 44.046875 -1.421875 31.78125 -1.421875 \nQ 19.53125 -1.421875 13.0625 8.265625 \nQ 6.59375 17.96875 6.59375 36.375 \nQ 6.59375 54.828125 13.0625 64.515625 \nQ 19.53125 74.21875 31.78125 74.21875 \nz\n\" id=\"DejaVuSans-48\"/>\n      </defs>\n      <g transform=\"translate(64.01875 254.356563)scale(0.1 -0.1)\">\n       <use xlink:href=\"#DejaVuSans-48\"/>\n      </g>\n     </g>\n    </g>\n    <g id=\"xtick_2\">\n     <g id=\"line2d_2\">\n      <g>\n       <use style=\"stroke:#000000;stroke-width:0.8;\" x=\"107.900648\" xlink:href=\"#mbd48abb2bb\" y=\"239.758125\"/>\n      </g>\n     </g>\n     <g id=\"text_2\">\n      <!-- 1 -->\n      <defs>\n       <path d=\"M 12.40625 8.296875 \nL 28.515625 8.296875 \nL 28.515625 63.921875 \nL 10.984375 60.40625 \nL 10.984375 69.390625 \nL 28.421875 72.90625 \nL 38.28125 72.90625 \nL 38.28125 8.296875 \nL 54.390625 8.296875 \nL 54.390625 0 \nL 12.40625 0 \nz\n\" id=\"DejaVuSans-49\"/>\n      </defs>\n      <g transform=\"translate(104.719398 254.356563)scale(0.1 -0.1)\">\n       <use xlink:href=\"#DejaVuSans-49\"/>\n      </g>\n     </g>\n    </g>\n    <g id=\"xtick_3\">\n     <g id=\"line2d_3\">\n      <g>\n       <use style=\"stroke:#000000;stroke-width:0.8;\" x=\"148.601295\" xlink:href=\"#mbd48abb2bb\" y=\"239.758125\"/>\n      </g>\n     </g>\n     <g id=\"text_3\">\n      <!-- 2 -->\n      <defs>\n       <path d=\"M 19.1875 8.296875 \nL 53.609375 8.296875 \nL 53.609375 0 \nL 7.328125 0 \nL 7.328125 8.296875 \nQ 12.9375 14.109375 22.625 23.890625 \nQ 32.328125 33.6875 34.8125 36.53125 \nQ 39.546875 41.84375 41.421875 45.53125 \nQ 43.3125 49.21875 43.3125 52.78125 \nQ 43.3125 58.59375 39.234375 62.25 \nQ 35.15625 65.921875 28.609375 65.921875 \nQ 23.96875 65.921875 18.8125 64.3125 \nQ 13.671875 62.703125 7.8125 59.421875 \nL 7.8125 69.390625 \nQ 13.765625 71.78125 18.9375 73 \nQ 24.125 74.21875 28.421875 74.21875 \nQ 39.75 74.21875 46.484375 68.546875 \nQ 53.21875 62.890625 53.21875 53.421875 \nQ 53.21875 48.921875 51.53125 44.890625 \nQ 49.859375 40.875 45.40625 35.40625 \nQ 44.1875 33.984375 37.640625 27.21875 \nQ 31.109375 20.453125 19.1875 8.296875 \nz\n\" id=\"DejaVuSans-50\"/>\n      </defs>\n      <g transform=\"translate(145.420045 254.356563)scale(0.1 -0.1)\">\n       <use xlink:href=\"#DejaVuSans-50\"/>\n      </g>\n     </g>\n    </g>\n    <g id=\"xtick_4\">\n     <g id=\"line2d_4\">\n      <g>\n       <use style=\"stroke:#000000;stroke-width:0.8;\" x=\"189.301943\" xlink:href=\"#mbd48abb2bb\" y=\"239.758125\"/>\n      </g>\n     </g>\n     <g id=\"text_4\">\n      <!-- 3 -->\n      <defs>\n       <path d=\"M 40.578125 39.3125 \nQ 47.65625 37.796875 51.625 33 \nQ 55.609375 28.21875 55.609375 21.1875 \nQ 55.609375 10.40625 48.1875 4.484375 \nQ 40.765625 -1.421875 27.09375 -1.421875 \nQ 22.515625 -1.421875 17.65625 -0.515625 \nQ 12.796875 0.390625 7.625 2.203125 \nL 7.625 11.71875 \nQ 11.71875 9.328125 16.59375 8.109375 \nQ 21.484375 6.890625 26.8125 6.890625 \nQ 36.078125 6.890625 40.9375 10.546875 \nQ 45.796875 14.203125 45.796875 21.1875 \nQ 45.796875 27.640625 41.28125 31.265625 \nQ 36.765625 34.90625 28.71875 34.90625 \nL 20.21875 34.90625 \nL 20.21875 43.015625 \nL 29.109375 43.015625 \nQ 36.375 43.015625 40.234375 45.921875 \nQ 44.09375 48.828125 44.09375 54.296875 \nQ 44.09375 59.90625 40.109375 62.90625 \nQ 36.140625 65.921875 28.71875 65.921875 \nQ 24.65625 65.921875 20.015625 65.03125 \nQ 15.375 64.15625 9.8125 62.3125 \nL 9.8125 71.09375 \nQ 15.4375 72.65625 20.34375 73.4375 \nQ 25.25 74.21875 29.59375 74.21875 \nQ 40.828125 74.21875 47.359375 69.109375 \nQ 53.90625 64.015625 53.90625 55.328125 \nQ 53.90625 49.265625 50.4375 45.09375 \nQ 46.96875 40.921875 40.578125 39.3125 \nz\n\" id=\"DejaVuSans-51\"/>\n      </defs>\n      <g transform=\"translate(186.120693 254.356563)scale(0.1 -0.1)\">\n       <use xlink:href=\"#DejaVuSans-51\"/>\n      </g>\n     </g>\n    </g>\n    <g id=\"xtick_5\">\n     <g id=\"line2d_5\">\n      <g>\n       <use style=\"stroke:#000000;stroke-width:0.8;\" x=\"230.00259\" xlink:href=\"#mbd48abb2bb\" y=\"239.758125\"/>\n      </g>\n     </g>\n     <g id=\"text_5\">\n      <!-- 4 -->\n      <defs>\n       <path d=\"M 37.796875 64.3125 \nL 12.890625 25.390625 \nL 37.796875 25.390625 \nz\nM 35.203125 72.90625 \nL 47.609375 72.90625 \nL 47.609375 25.390625 \nL 58.015625 25.390625 \nL 58.015625 17.1875 \nL 47.609375 17.1875 \nL 47.609375 0 \nL 37.796875 0 \nL 37.796875 17.1875 \nL 4.890625 17.1875 \nL 4.890625 26.703125 \nz\n\" id=\"DejaVuSans-52\"/>\n      </defs>\n      <g transform=\"translate(226.82134 254.356563)scale(0.1 -0.1)\">\n       <use xlink:href=\"#DejaVuSans-52\"/>\n      </g>\n     </g>\n    </g>\n    <g id=\"xtick_6\">\n     <g id=\"line2d_6\">\n      <g>\n       <use style=\"stroke:#000000;stroke-width:0.8;\" x=\"270.703238\" xlink:href=\"#mbd48abb2bb\" y=\"239.758125\"/>\n      </g>\n     </g>\n     <g id=\"text_6\">\n      <!-- 5 -->\n      <defs>\n       <path d=\"M 10.796875 72.90625 \nL 49.515625 72.90625 \nL 49.515625 64.59375 \nL 19.828125 64.59375 \nL 19.828125 46.734375 \nQ 21.96875 47.46875 24.109375 47.828125 \nQ 26.265625 48.1875 28.421875 48.1875 \nQ 40.625 48.1875 47.75 41.5 \nQ 54.890625 34.8125 54.890625 23.390625 \nQ 54.890625 11.625 47.5625 5.09375 \nQ 40.234375 -1.421875 26.90625 -1.421875 \nQ 22.3125 -1.421875 17.546875 -0.640625 \nQ 12.796875 0.140625 7.71875 1.703125 \nL 7.71875 11.625 \nQ 12.109375 9.234375 16.796875 8.0625 \nQ 21.484375 6.890625 26.703125 6.890625 \nQ 35.15625 6.890625 40.078125 11.328125 \nQ 45.015625 15.765625 45.015625 23.390625 \nQ 45.015625 31 40.078125 35.4375 \nQ 35.15625 39.890625 26.703125 39.890625 \nQ 22.75 39.890625 18.8125 39.015625 \nQ 14.890625 38.140625 10.796875 36.28125 \nz\n\" id=\"DejaVuSans-53\"/>\n      </defs>\n      <g transform=\"translate(267.521988 254.356563)scale(0.1 -0.1)\">\n       <use xlink:href=\"#DejaVuSans-53\"/>\n      </g>\n     </g>\n    </g>\n    <g id=\"xtick_7\">\n     <g id=\"line2d_7\">\n      <g>\n       <use style=\"stroke:#000000;stroke-width:0.8;\" x=\"311.403885\" xlink:href=\"#mbd48abb2bb\" y=\"239.758125\"/>\n      </g>\n     </g>\n     <g id=\"text_7\">\n      <!-- 6 -->\n      <defs>\n       <path d=\"M 33.015625 40.375 \nQ 26.375 40.375 22.484375 35.828125 \nQ 18.609375 31.296875 18.609375 23.390625 \nQ 18.609375 15.53125 22.484375 10.953125 \nQ 26.375 6.390625 33.015625 6.390625 \nQ 39.65625 6.390625 43.53125 10.953125 \nQ 47.40625 15.53125 47.40625 23.390625 \nQ 47.40625 31.296875 43.53125 35.828125 \nQ 39.65625 40.375 33.015625 40.375 \nz\nM 52.59375 71.296875 \nL 52.59375 62.3125 \nQ 48.875 64.0625 45.09375 64.984375 \nQ 41.3125 65.921875 37.59375 65.921875 \nQ 27.828125 65.921875 22.671875 59.328125 \nQ 17.53125 52.734375 16.796875 39.40625 \nQ 19.671875 43.65625 24.015625 45.921875 \nQ 28.375 48.1875 33.59375 48.1875 \nQ 44.578125 48.1875 50.953125 41.515625 \nQ 57.328125 34.859375 57.328125 23.390625 \nQ 57.328125 12.15625 50.6875 5.359375 \nQ 44.046875 -1.421875 33.015625 -1.421875 \nQ 20.359375 -1.421875 13.671875 8.265625 \nQ 6.984375 17.96875 6.984375 36.375 \nQ 6.984375 53.65625 15.1875 63.9375 \nQ 23.390625 74.21875 37.203125 74.21875 \nQ 40.921875 74.21875 44.703125 73.484375 \nQ 48.484375 72.75 52.59375 71.296875 \nz\n\" id=\"DejaVuSans-54\"/>\n      </defs>\n      <g transform=\"translate(308.222635 254.356563)scale(0.1 -0.1)\">\n       <use xlink:href=\"#DejaVuSans-54\"/>\n      </g>\n     </g>\n    </g>\n    <g id=\"xtick_8\">\n     <g id=\"line2d_8\">\n      <g>\n       <use style=\"stroke:#000000;stroke-width:0.8;\" x=\"352.104533\" xlink:href=\"#mbd48abb2bb\" y=\"239.758125\"/>\n      </g>\n     </g>\n     <g id=\"text_8\">\n      <!-- 7 -->\n      <defs>\n       <path d=\"M 8.203125 72.90625 \nL 55.078125 72.90625 \nL 55.078125 68.703125 \nL 28.609375 0 \nL 18.3125 0 \nL 43.21875 64.59375 \nL 8.203125 64.59375 \nz\n\" id=\"DejaVuSans-55\"/>\n      </defs>\n      <g transform=\"translate(348.923283 254.356563)scale(0.1 -0.1)\">\n       <use xlink:href=\"#DejaVuSans-55\"/>\n      </g>\n     </g>\n    </g>\n    <g id=\"xtick_9\">\n     <g id=\"line2d_9\">\n      <g>\n       <use style=\"stroke:#000000;stroke-width:0.8;\" x=\"392.80518\" xlink:href=\"#mbd48abb2bb\" y=\"239.758125\"/>\n      </g>\n     </g>\n     <g id=\"text_9\">\n      <!-- 8 -->\n      <defs>\n       <path d=\"M 31.78125 34.625 \nQ 24.75 34.625 20.71875 30.859375 \nQ 16.703125 27.09375 16.703125 20.515625 \nQ 16.703125 13.921875 20.71875 10.15625 \nQ 24.75 6.390625 31.78125 6.390625 \nQ 38.8125 6.390625 42.859375 10.171875 \nQ 46.921875 13.96875 46.921875 20.515625 \nQ 46.921875 27.09375 42.890625 30.859375 \nQ 38.875 34.625 31.78125 34.625 \nz\nM 21.921875 38.8125 \nQ 15.578125 40.375 12.03125 44.71875 \nQ 8.5 49.078125 8.5 55.328125 \nQ 8.5 64.0625 14.71875 69.140625 \nQ 20.953125 74.21875 31.78125 74.21875 \nQ 42.671875 74.21875 48.875 69.140625 \nQ 55.078125 64.0625 55.078125 55.328125 \nQ 55.078125 49.078125 51.53125 44.71875 \nQ 48 40.375 41.703125 38.8125 \nQ 48.828125 37.15625 52.796875 32.3125 \nQ 56.78125 27.484375 56.78125 20.515625 \nQ 56.78125 9.90625 50.3125 4.234375 \nQ 43.84375 -1.421875 31.78125 -1.421875 \nQ 19.734375 -1.421875 13.25 4.234375 \nQ 6.78125 9.90625 6.78125 20.515625 \nQ 6.78125 27.484375 10.78125 32.3125 \nQ 14.796875 37.15625 21.921875 38.8125 \nz\nM 18.3125 54.390625 \nQ 18.3125 48.734375 21.84375 45.5625 \nQ 25.390625 42.390625 31.78125 42.390625 \nQ 38.140625 42.390625 41.71875 45.5625 \nQ 45.3125 48.734375 45.3125 54.390625 \nQ 45.3125 60.0625 41.71875 63.234375 \nQ 38.140625 66.40625 31.78125 66.40625 \nQ 25.390625 66.40625 21.84375 63.234375 \nQ 18.3125 60.0625 18.3125 54.390625 \nz\n\" id=\"DejaVuSans-56\"/>\n      </defs>\n      <g transform=\"translate(389.62393 254.356563)scale(0.1 -0.1)\">\n       <use xlink:href=\"#DejaVuSans-56\"/>\n      </g>\n     </g>\n    </g>\n    <g id=\"text_10\">\n     <!-- trains_time -->\n     <defs>\n      <path d=\"M 18.3125 70.21875 \nL 18.3125 54.6875 \nL 36.8125 54.6875 \nL 36.8125 47.703125 \nL 18.3125 47.703125 \nL 18.3125 18.015625 \nQ 18.3125 11.328125 20.140625 9.421875 \nQ 21.96875 7.515625 27.59375 7.515625 \nL 36.8125 7.515625 \nL 36.8125 0 \nL 27.59375 0 \nQ 17.1875 0 13.234375 3.875 \nQ 9.28125 7.765625 9.28125 18.015625 \nL 9.28125 47.703125 \nL 2.6875 47.703125 \nL 2.6875 54.6875 \nL 9.28125 54.6875 \nL 9.28125 70.21875 \nz\n\" id=\"DejaVuSans-116\"/>\n      <path d=\"M 41.109375 46.296875 \nQ 39.59375 47.171875 37.8125 47.578125 \nQ 36.03125 48 33.890625 48 \nQ 26.265625 48 22.1875 43.046875 \nQ 18.109375 38.09375 18.109375 28.8125 \nL 18.109375 0 \nL 9.078125 0 \nL 9.078125 54.6875 \nL 18.109375 54.6875 \nL 18.109375 46.1875 \nQ 20.953125 51.171875 25.484375 53.578125 \nQ 30.03125 56 36.53125 56 \nQ 37.453125 56 38.578125 55.875 \nQ 39.703125 55.765625 41.0625 55.515625 \nz\n\" id=\"DejaVuSans-114\"/>\n      <path d=\"M 34.28125 27.484375 \nQ 23.390625 27.484375 19.1875 25 \nQ 14.984375 22.515625 14.984375 16.5 \nQ 14.984375 11.71875 18.140625 8.90625 \nQ 21.296875 6.109375 26.703125 6.109375 \nQ 34.1875 6.109375 38.703125 11.40625 \nQ 43.21875 16.703125 43.21875 25.484375 \nL 43.21875 27.484375 \nz\nM 52.203125 31.203125 \nL 52.203125 0 \nL 43.21875 0 \nL 43.21875 8.296875 \nQ 40.140625 3.328125 35.546875 0.953125 \nQ 30.953125 -1.421875 24.3125 -1.421875 \nQ 15.921875 -1.421875 10.953125 3.296875 \nQ 6 8.015625 6 15.921875 \nQ 6 25.140625 12.171875 29.828125 \nQ 18.359375 34.515625 30.609375 34.515625 \nL 43.21875 34.515625 \nL 43.21875 35.40625 \nQ 43.21875 41.609375 39.140625 45 \nQ 35.0625 48.390625 27.6875 48.390625 \nQ 23 48.390625 18.546875 47.265625 \nQ 14.109375 46.140625 10.015625 43.890625 \nL 10.015625 52.203125 \nQ 14.9375 54.109375 19.578125 55.046875 \nQ 24.21875 56 28.609375 56 \nQ 40.484375 56 46.34375 49.84375 \nQ 52.203125 43.703125 52.203125 31.203125 \nz\n\" id=\"DejaVuSans-97\"/>\n      <path d=\"M 9.421875 54.6875 \nL 18.40625 54.6875 \nL 18.40625 0 \nL 9.421875 0 \nz\nM 9.421875 75.984375 \nL 18.40625 75.984375 \nL 18.40625 64.59375 \nL 9.421875 64.59375 \nz\n\" id=\"DejaVuSans-105\"/>\n      <path d=\"M 54.890625 33.015625 \nL 54.890625 0 \nL 45.90625 0 \nL 45.90625 32.71875 \nQ 45.90625 40.484375 42.875 44.328125 \nQ 39.84375 48.1875 33.796875 48.1875 \nQ 26.515625 48.1875 22.3125 43.546875 \nQ 18.109375 38.921875 18.109375 30.90625 \nL 18.109375 0 \nL 9.078125 0 \nL 9.078125 54.6875 \nL 18.109375 54.6875 \nL 18.109375 46.1875 \nQ 21.34375 51.125 25.703125 53.5625 \nQ 30.078125 56 35.796875 56 \nQ 45.21875 56 50.046875 50.171875 \nQ 54.890625 44.34375 54.890625 33.015625 \nz\n\" id=\"DejaVuSans-110\"/>\n      <path d=\"M 44.28125 53.078125 \nL 44.28125 44.578125 \nQ 40.484375 46.53125 36.375 47.5 \nQ 32.28125 48.484375 27.875 48.484375 \nQ 21.1875 48.484375 17.84375 46.4375 \nQ 14.5 44.390625 14.5 40.28125 \nQ 14.5 37.15625 16.890625 35.375 \nQ 19.28125 33.59375 26.515625 31.984375 \nL 29.59375 31.296875 \nQ 39.15625 29.25 43.1875 25.515625 \nQ 47.21875 21.78125 47.21875 15.09375 \nQ 47.21875 7.46875 41.1875 3.015625 \nQ 35.15625 -1.421875 24.609375 -1.421875 \nQ 20.21875 -1.421875 15.453125 -0.5625 \nQ 10.6875 0.296875 5.421875 2 \nL 5.421875 11.28125 \nQ 10.40625 8.6875 15.234375 7.390625 \nQ 20.0625 6.109375 24.8125 6.109375 \nQ 31.15625 6.109375 34.5625 8.28125 \nQ 37.984375 10.453125 37.984375 14.40625 \nQ 37.984375 18.0625 35.515625 20.015625 \nQ 33.0625 21.96875 24.703125 23.78125 \nL 21.578125 24.515625 \nQ 13.234375 26.265625 9.515625 29.90625 \nQ 5.8125 33.546875 5.8125 39.890625 \nQ 5.8125 47.609375 11.28125 51.796875 \nQ 16.75 56 26.8125 56 \nQ 31.78125 56 36.171875 55.265625 \nQ 40.578125 54.546875 44.28125 53.078125 \nz\n\" id=\"DejaVuSans-115\"/>\n      <path d=\"M 50.984375 -16.609375 \nL 50.984375 -23.578125 \nL -0.984375 -23.578125 \nL -0.984375 -16.609375 \nz\n\" id=\"DejaVuSans-95\"/>\n      <path d=\"M 52 44.1875 \nQ 55.375 50.25 60.0625 53.125 \nQ 64.75 56 71.09375 56 \nQ 79.640625 56 84.28125 50.015625 \nQ 88.921875 44.046875 88.921875 33.015625 \nL 88.921875 0 \nL 79.890625 0 \nL 79.890625 32.71875 \nQ 79.890625 40.578125 77.09375 44.375 \nQ 74.3125 48.1875 68.609375 48.1875 \nQ 61.625 48.1875 57.5625 43.546875 \nQ 53.515625 38.921875 53.515625 30.90625 \nL 53.515625 0 \nL 44.484375 0 \nL 44.484375 32.71875 \nQ 44.484375 40.625 41.703125 44.40625 \nQ 38.921875 48.1875 33.109375 48.1875 \nQ 26.21875 48.1875 22.15625 43.53125 \nQ 18.109375 38.875 18.109375 30.90625 \nL 18.109375 0 \nL 9.078125 0 \nL 9.078125 54.6875 \nL 18.109375 54.6875 \nL 18.109375 46.1875 \nQ 21.1875 51.21875 25.484375 53.609375 \nQ 29.78125 56 35.6875 56 \nQ 41.65625 56 45.828125 52.96875 \nQ 50 49.953125 52 44.1875 \nz\n\" id=\"DejaVuSans-109\"/>\n      <path d=\"M 56.203125 29.59375 \nL 56.203125 25.203125 \nL 14.890625 25.203125 \nQ 15.484375 15.921875 20.484375 11.0625 \nQ 25.484375 6.203125 34.421875 6.203125 \nQ 39.59375 6.203125 44.453125 7.46875 \nQ 49.3125 8.734375 54.109375 11.28125 \nL 54.109375 2.78125 \nQ 49.265625 0.734375 44.1875 -0.34375 \nQ 39.109375 -1.421875 33.890625 -1.421875 \nQ 20.796875 -1.421875 13.15625 6.1875 \nQ 5.515625 13.8125 5.515625 26.8125 \nQ 5.515625 40.234375 12.765625 48.109375 \nQ 20.015625 56 32.328125 56 \nQ 43.359375 56 49.78125 48.890625 \nQ 56.203125 41.796875 56.203125 29.59375 \nz\nM 47.21875 32.234375 \nQ 47.125 39.59375 43.09375 43.984375 \nQ 39.0625 48.390625 32.421875 48.390625 \nQ 24.90625 48.390625 20.390625 44.140625 \nQ 15.875 39.890625 15.1875 32.171875 \nz\n\" id=\"DejaVuSans-101\"/>\n     </defs>\n     <g transform=\"translate(206.561719 268.034688)scale(0.1 -0.1)\">\n      <use xlink:href=\"#DejaVuSans-116\"/>\n      <use x=\"39.208984\" xlink:href=\"#DejaVuSans-114\"/>\n      <use x=\"80.322266\" xlink:href=\"#DejaVuSans-97\"/>\n      <use x=\"141.601562\" xlink:href=\"#DejaVuSans-105\"/>\n      <use x=\"169.384766\" xlink:href=\"#DejaVuSans-110\"/>\n      <use x=\"232.763672\" xlink:href=\"#DejaVuSans-115\"/>\n      <use x=\"284.863281\" xlink:href=\"#DejaVuSans-95\"/>\n      <use x=\"334.863281\" xlink:href=\"#DejaVuSans-116\"/>\n      <use x=\"374.072266\" xlink:href=\"#DejaVuSans-105\"/>\n      <use x=\"401.855469\" xlink:href=\"#DejaVuSans-109\"/>\n      <use x=\"499.267578\" xlink:href=\"#DejaVuSans-101\"/>\n     </g>\n    </g>\n   </g>\n   <g id=\"matplotlib.axis_2\">\n    <g id=\"ytick_1\">\n     <g id=\"line2d_10\">\n      <defs>\n       <path d=\"M 0 0 \nL -3.5 0 \n\" id=\"m7335a1ff7f\" style=\"stroke:#000000;stroke-width:0.8;\"/>\n      </defs>\n      <g>\n       <use style=\"stroke:#000000;stroke-width:0.8;\" x=\"67.2\" xlink:href=\"#m7335a1ff7f\" y=\"226.168125\"/>\n      </g>\n     </g>\n     <g id=\"text_11\">\n      <!-- selu -->\n      <defs>\n       <path d=\"M 9.421875 75.984375 \nL 18.40625 75.984375 \nL 18.40625 0 \nL 9.421875 0 \nz\n\" id=\"DejaVuSans-108\"/>\n       <path d=\"M 8.5 21.578125 \nL 8.5 54.6875 \nL 17.484375 54.6875 \nL 17.484375 21.921875 \nQ 17.484375 14.15625 20.5 10.265625 \nQ 23.53125 6.390625 29.59375 6.390625 \nQ 36.859375 6.390625 41.078125 11.03125 \nQ 45.3125 15.671875 45.3125 23.6875 \nL 45.3125 54.6875 \nL 54.296875 54.6875 \nL 54.296875 0 \nL 45.3125 0 \nL 45.3125 8.40625 \nQ 42.046875 3.421875 37.71875 1 \nQ 33.40625 -1.421875 27.6875 -1.421875 \nQ 18.265625 -1.421875 13.375 4.4375 \nQ 8.5 10.296875 8.5 21.578125 \nz\nM 31.109375 56 \nz\n\" id=\"DejaVuSans-117\"/>\n      </defs>\n      <g transform=\"translate(39.721875 229.967344)scale(0.1 -0.1)\">\n       <use xlink:href=\"#DejaVuSans-115\"/>\n       <use x=\"52.099609\" xlink:href=\"#DejaVuSans-101\"/>\n       <use x=\"113.623047\" xlink:href=\"#DejaVuSans-108\"/>\n       <use x=\"141.40625\" xlink:href=\"#DejaVuSans-117\"/>\n      </g>\n     </g>\n    </g>\n    <g id=\"ytick_2\">\n     <g id=\"line2d_11\">\n      <g>\n       <use style=\"stroke:#000000;stroke-width:0.8;\" x=\"67.2\" xlink:href=\"#m7335a1ff7f\" y=\"198.988125\"/>\n      </g>\n     </g>\n     <g id=\"text_12\">\n      <!-- elu -->\n      <g transform=\"translate(44.93125 202.787344)scale(0.1 -0.1)\">\n       <use xlink:href=\"#DejaVuSans-101\"/>\n       <use x=\"61.523438\" xlink:href=\"#DejaVuSans-108\"/>\n       <use x=\"89.306641\" xlink:href=\"#DejaVuSans-117\"/>\n      </g>\n     </g>\n    </g>\n    <g id=\"ytick_3\">\n     <g id=\"line2d_12\">\n      <g>\n       <use style=\"stroke:#000000;stroke-width:0.8;\" x=\"67.2\" xlink:href=\"#m7335a1ff7f\" y=\"171.808125\"/>\n      </g>\n     </g>\n     <g id=\"text_13\">\n      <!-- tanh -->\n      <defs>\n       <path d=\"M 54.890625 33.015625 \nL 54.890625 0 \nL 45.90625 0 \nL 45.90625 32.71875 \nQ 45.90625 40.484375 42.875 44.328125 \nQ 39.84375 48.1875 33.796875 48.1875 \nQ 26.515625 48.1875 22.3125 43.546875 \nQ 18.109375 38.921875 18.109375 30.90625 \nL 18.109375 0 \nL 9.078125 0 \nL 9.078125 75.984375 \nL 18.109375 75.984375 \nL 18.109375 46.1875 \nQ 21.34375 51.125 25.703125 53.5625 \nQ 30.078125 56 35.796875 56 \nQ 45.21875 56 50.046875 50.171875 \nQ 54.890625 44.34375 54.890625 33.015625 \nz\n\" id=\"DejaVuSans-104\"/>\n      </defs>\n      <g transform=\"translate(37.476563 175.607344)scale(0.1 -0.1)\">\n       <use xlink:href=\"#DejaVuSans-116\"/>\n       <use x=\"39.208984\" xlink:href=\"#DejaVuSans-97\"/>\n       <use x=\"100.488281\" xlink:href=\"#DejaVuSans-110\"/>\n       <use x=\"163.867188\" xlink:href=\"#DejaVuSans-104\"/>\n      </g>\n     </g>\n    </g>\n    <g id=\"ytick_4\">\n     <g id=\"line2d_13\">\n      <g>\n       <use style=\"stroke:#000000;stroke-width:0.8;\" x=\"67.2\" xlink:href=\"#m7335a1ff7f\" y=\"144.628125\"/>\n      </g>\n     </g>\n     <g id=\"text_14\">\n      <!-- swish -->\n      <defs>\n       <path d=\"M 4.203125 54.6875 \nL 13.1875 54.6875 \nL 24.421875 12.015625 \nL 35.59375 54.6875 \nL 46.1875 54.6875 \nL 57.421875 12.015625 \nL 68.609375 54.6875 \nL 77.59375 54.6875 \nL 63.28125 0 \nL 52.6875 0 \nL 40.921875 44.828125 \nL 29.109375 0 \nL 18.5 0 \nz\n\" id=\"DejaVuSans-119\"/>\n      </defs>\n      <g transform=\"translate(32.4875 148.427344)scale(0.1 -0.1)\">\n       <use xlink:href=\"#DejaVuSans-115\"/>\n       <use x=\"52.099609\" xlink:href=\"#DejaVuSans-119\"/>\n       <use x=\"133.886719\" xlink:href=\"#DejaVuSans-105\"/>\n       <use x=\"161.669922\" xlink:href=\"#DejaVuSans-115\"/>\n       <use x=\"213.769531\" xlink:href=\"#DejaVuSans-104\"/>\n      </g>\n     </g>\n    </g>\n    <g id=\"ytick_5\">\n     <g id=\"line2d_14\">\n      <g>\n       <use style=\"stroke:#000000;stroke-width:0.8;\" x=\"67.2\" xlink:href=\"#m7335a1ff7f\" y=\"117.448125\"/>\n      </g>\n     </g>\n     <g id=\"text_15\">\n      <!-- softplus -->\n      <defs>\n       <path d=\"M 30.609375 48.390625 \nQ 23.390625 48.390625 19.1875 42.75 \nQ 14.984375 37.109375 14.984375 27.296875 \nQ 14.984375 17.484375 19.15625 11.84375 \nQ 23.34375 6.203125 30.609375 6.203125 \nQ 37.796875 6.203125 41.984375 11.859375 \nQ 46.1875 17.53125 46.1875 27.296875 \nQ 46.1875 37.015625 41.984375 42.703125 \nQ 37.796875 48.390625 30.609375 48.390625 \nz\nM 30.609375 56 \nQ 42.328125 56 49.015625 48.375 \nQ 55.71875 40.765625 55.71875 27.296875 \nQ 55.71875 13.875 49.015625 6.21875 \nQ 42.328125 -1.421875 30.609375 -1.421875 \nQ 18.84375 -1.421875 12.171875 6.21875 \nQ 5.515625 13.875 5.515625 27.296875 \nQ 5.515625 40.765625 12.171875 48.375 \nQ 18.84375 56 30.609375 56 \nz\n\" id=\"DejaVuSans-111\"/>\n       <path d=\"M 37.109375 75.984375 \nL 37.109375 68.5 \nL 28.515625 68.5 \nQ 23.6875 68.5 21.796875 66.546875 \nQ 19.921875 64.59375 19.921875 59.515625 \nL 19.921875 54.6875 \nL 34.71875 54.6875 \nL 34.71875 47.703125 \nL 19.921875 47.703125 \nL 19.921875 0 \nL 10.890625 0 \nL 10.890625 47.703125 \nL 2.296875 47.703125 \nL 2.296875 54.6875 \nL 10.890625 54.6875 \nL 10.890625 58.5 \nQ 10.890625 67.625 15.140625 71.796875 \nQ 19.390625 75.984375 28.609375 75.984375 \nz\n\" id=\"DejaVuSans-102\"/>\n       <path d=\"M 18.109375 8.203125 \nL 18.109375 -20.796875 \nL 9.078125 -20.796875 \nL 9.078125 54.6875 \nL 18.109375 54.6875 \nL 18.109375 46.390625 \nQ 20.953125 51.265625 25.265625 53.625 \nQ 29.59375 56 35.59375 56 \nQ 45.5625 56 51.78125 48.09375 \nQ 58.015625 40.1875 58.015625 27.296875 \nQ 58.015625 14.40625 51.78125 6.484375 \nQ 45.5625 -1.421875 35.59375 -1.421875 \nQ 29.59375 -1.421875 25.265625 0.953125 \nQ 20.953125 3.328125 18.109375 8.203125 \nz\nM 48.6875 27.296875 \nQ 48.6875 37.203125 44.609375 42.84375 \nQ 40.53125 48.484375 33.40625 48.484375 \nQ 26.265625 48.484375 22.1875 42.84375 \nQ 18.109375 37.203125 18.109375 27.296875 \nQ 18.109375 17.390625 22.1875 11.75 \nQ 26.265625 6.109375 33.40625 6.109375 \nQ 40.53125 6.109375 44.609375 11.75 \nQ 48.6875 17.390625 48.6875 27.296875 \nz\n\" id=\"DejaVuSans-112\"/>\n      </defs>\n      <g transform=\"translate(20.932813 121.247344)scale(0.1 -0.1)\">\n       <use xlink:href=\"#DejaVuSans-115\"/>\n       <use x=\"52.099609\" xlink:href=\"#DejaVuSans-111\"/>\n       <use x=\"113.28125\" xlink:href=\"#DejaVuSans-102\"/>\n       <use x=\"146.736328\" xlink:href=\"#DejaVuSans-116\"/>\n       <use x=\"185.945312\" xlink:href=\"#DejaVuSans-112\"/>\n       <use x=\"249.421875\" xlink:href=\"#DejaVuSans-108\"/>\n       <use x=\"277.205078\" xlink:href=\"#DejaVuSans-117\"/>\n       <use x=\"340.583984\" xlink:href=\"#DejaVuSans-115\"/>\n      </g>\n     </g>\n    </g>\n    <g id=\"ytick_6\">\n     <g id=\"line2d_15\">\n      <g>\n       <use style=\"stroke:#000000;stroke-width:0.8;\" x=\"67.2\" xlink:href=\"#m7335a1ff7f\" y=\"90.268125\"/>\n      </g>\n     </g>\n     <g id=\"text_16\">\n      <!-- softsing -->\n      <defs>\n       <path d=\"M 45.40625 27.984375 \nQ 45.40625 37.75 41.375 43.109375 \nQ 37.359375 48.484375 30.078125 48.484375 \nQ 22.859375 48.484375 18.828125 43.109375 \nQ 14.796875 37.75 14.796875 27.984375 \nQ 14.796875 18.265625 18.828125 12.890625 \nQ 22.859375 7.515625 30.078125 7.515625 \nQ 37.359375 7.515625 41.375 12.890625 \nQ 45.40625 18.265625 45.40625 27.984375 \nz\nM 54.390625 6.78125 \nQ 54.390625 -7.171875 48.1875 -13.984375 \nQ 42 -20.796875 29.203125 -20.796875 \nQ 24.46875 -20.796875 20.265625 -20.09375 \nQ 16.0625 -19.390625 12.109375 -17.921875 \nL 12.109375 -9.1875 \nQ 16.0625 -11.328125 19.921875 -12.34375 \nQ 23.78125 -13.375 27.78125 -13.375 \nQ 36.625 -13.375 41.015625 -8.765625 \nQ 45.40625 -4.15625 45.40625 5.171875 \nL 45.40625 9.625 \nQ 42.625 4.78125 38.28125 2.390625 \nQ 33.9375 0 27.875 0 \nQ 17.828125 0 11.671875 7.65625 \nQ 5.515625 15.328125 5.515625 27.984375 \nQ 5.515625 40.671875 11.671875 48.328125 \nQ 17.828125 56 27.875 56 \nQ 33.9375 56 38.28125 53.609375 \nQ 42.625 51.21875 45.40625 46.390625 \nL 45.40625 54.6875 \nL 54.390625 54.6875 \nz\n\" id=\"DejaVuSans-103\"/>\n      </defs>\n      <g transform=\"translate(20.932813 94.067344)scale(0.1 -0.1)\">\n       <use xlink:href=\"#DejaVuSans-115\"/>\n       <use x=\"52.099609\" xlink:href=\"#DejaVuSans-111\"/>\n       <use x=\"113.28125\" xlink:href=\"#DejaVuSans-102\"/>\n       <use x=\"146.736328\" xlink:href=\"#DejaVuSans-116\"/>\n       <use x=\"185.945312\" xlink:href=\"#DejaVuSans-115\"/>\n       <use x=\"238.044922\" xlink:href=\"#DejaVuSans-105\"/>\n       <use x=\"265.828125\" xlink:href=\"#DejaVuSans-110\"/>\n       <use x=\"329.207031\" xlink:href=\"#DejaVuSans-103\"/>\n      </g>\n     </g>\n    </g>\n    <g id=\"ytick_7\">\n     <g id=\"line2d_16\">\n      <g>\n       <use style=\"stroke:#000000;stroke-width:0.8;\" x=\"67.2\" xlink:href=\"#m7335a1ff7f\" y=\"63.088125\"/>\n      </g>\n     </g>\n     <g id=\"text_17\">\n      <!-- sigmoid -->\n      <defs>\n       <path d=\"M 45.40625 46.390625 \nL 45.40625 75.984375 \nL 54.390625 75.984375 \nL 54.390625 0 \nL 45.40625 0 \nL 45.40625 8.203125 \nQ 42.578125 3.328125 38.25 0.953125 \nQ 33.9375 -1.421875 27.875 -1.421875 \nQ 17.96875 -1.421875 11.734375 6.484375 \nQ 5.515625 14.40625 5.515625 27.296875 \nQ 5.515625 40.1875 11.734375 48.09375 \nQ 17.96875 56 27.875 56 \nQ 33.9375 56 38.25 53.625 \nQ 42.578125 51.265625 45.40625 46.390625 \nz\nM 14.796875 27.296875 \nQ 14.796875 17.390625 18.875 11.75 \nQ 22.953125 6.109375 30.078125 6.109375 \nQ 37.203125 6.109375 41.296875 11.75 \nQ 45.40625 17.390625 45.40625 27.296875 \nQ 45.40625 37.203125 41.296875 42.84375 \nQ 37.203125 48.484375 30.078125 48.484375 \nQ 22.953125 48.484375 18.875 42.84375 \nQ 14.796875 37.203125 14.796875 27.296875 \nz\n\" id=\"DejaVuSans-100\"/>\n      </defs>\n      <g transform=\"translate(20.878125 66.887344)scale(0.1 -0.1)\">\n       <use xlink:href=\"#DejaVuSans-115\"/>\n       <use x=\"52.099609\" xlink:href=\"#DejaVuSans-105\"/>\n       <use x=\"79.882812\" xlink:href=\"#DejaVuSans-103\"/>\n       <use x=\"143.359375\" xlink:href=\"#DejaVuSans-109\"/>\n       <use x=\"240.771484\" xlink:href=\"#DejaVuSans-111\"/>\n       <use x=\"301.953125\" xlink:href=\"#DejaVuSans-105\"/>\n       <use x=\"329.736328\" xlink:href=\"#DejaVuSans-100\"/>\n      </g>\n     </g>\n    </g>\n    <g id=\"ytick_8\">\n     <g id=\"line2d_17\">\n      <g>\n       <use style=\"stroke:#000000;stroke-width:0.8;\" x=\"67.2\" xlink:href=\"#m7335a1ff7f\" y=\"35.908125\"/>\n      </g>\n     </g>\n     <g id=\"text_18\">\n      <!-- relu -->\n      <g transform=\"translate(41.045313 39.707344)scale(0.1 -0.1)\">\n       <use xlink:href=\"#DejaVuSans-114\"/>\n       <use x=\"38.863281\" xlink:href=\"#DejaVuSans-101\"/>\n       <use x=\"100.386719\" xlink:href=\"#DejaVuSans-108\"/>\n       <use x=\"128.169922\" xlink:href=\"#DejaVuSans-117\"/>\n      </g>\n     </g>\n    </g>\n    <g id=\"text_19\">\n     <!-- activation -->\n     <defs>\n      <path d=\"M 48.78125 52.59375 \nL 48.78125 44.1875 \nQ 44.96875 46.296875 41.140625 47.34375 \nQ 37.3125 48.390625 33.40625 48.390625 \nQ 24.65625 48.390625 19.8125 42.84375 \nQ 14.984375 37.3125 14.984375 27.296875 \nQ 14.984375 17.28125 19.8125 11.734375 \nQ 24.65625 6.203125 33.40625 6.203125 \nQ 37.3125 6.203125 41.140625 7.25 \nQ 44.96875 8.296875 48.78125 10.40625 \nL 48.78125 2.09375 \nQ 45.015625 0.34375 40.984375 -0.53125 \nQ 36.96875 -1.421875 32.421875 -1.421875 \nQ 20.0625 -1.421875 12.78125 6.34375 \nQ 5.515625 14.109375 5.515625 27.296875 \nQ 5.515625 40.671875 12.859375 48.328125 \nQ 20.21875 56 33.015625 56 \nQ 37.15625 56 41.109375 55.140625 \nQ 45.0625 54.296875 48.78125 52.59375 \nz\n\" id=\"DejaVuSans-99\"/>\n      <path d=\"M 2.984375 54.6875 \nL 12.5 54.6875 \nL 29.59375 8.796875 \nL 46.6875 54.6875 \nL 56.203125 54.6875 \nL 35.6875 0 \nL 23.484375 0 \nz\n\" id=\"DejaVuSans-118\"/>\n     </defs>\n     <g transform=\"translate(14.798438 155.801406)rotate(-90)scale(0.1 -0.1)\">\n      <use xlink:href=\"#DejaVuSans-97\"/>\n      <use x=\"61.279297\" xlink:href=\"#DejaVuSans-99\"/>\n      <use x=\"116.259766\" xlink:href=\"#DejaVuSans-116\"/>\n      <use x=\"155.46875\" xlink:href=\"#DejaVuSans-105\"/>\n      <use x=\"183.251953\" xlink:href=\"#DejaVuSans-118\"/>\n      <use x=\"242.431641\" xlink:href=\"#DejaVuSans-97\"/>\n      <use x=\"303.710938\" xlink:href=\"#DejaVuSans-116\"/>\n      <use x=\"342.919922\" xlink:href=\"#DejaVuSans-105\"/>\n      <use x=\"370.703125\" xlink:href=\"#DejaVuSans-111\"/>\n      <use x=\"431.884766\" xlink:href=\"#DejaVuSans-110\"/>\n     </g>\n    </g>\n   </g>\n   <g id=\"patch_11\">\n    <path d=\"M 67.2 239.758125 \nL 67.2 22.318125 \n\" style=\"fill:none;stroke:#000000;stroke-linecap:square;stroke-linejoin:miter;stroke-width:0.8;\"/>\n   </g>\n   <g id=\"patch_12\">\n    <path d=\"M 402 239.758125 \nL 402 22.318125 \n\" style=\"fill:none;stroke:#000000;stroke-linecap:square;stroke-linejoin:miter;stroke-width:0.8;\"/>\n   </g>\n   <g id=\"patch_13\">\n    <path d=\"M 67.2 239.758125 \nL 402 239.758125 \n\" style=\"fill:none;stroke:#000000;stroke-linecap:square;stroke-linejoin:miter;stroke-width:0.8;\"/>\n   </g>\n   <g id=\"patch_14\">\n    <path d=\"M 67.2 22.318125 \nL 402 22.318125 \n\" style=\"fill:none;stroke:#000000;stroke-linecap:square;stroke-linejoin:miter;stroke-width:0.8;\"/>\n   </g>\n   <g id=\"text_20\">\n    <!-- average of time train different activation function -->\n    <defs>\n     <path id=\"DejaVuSans-32\"/>\n    </defs>\n    <g transform=\"translate(85.495313 16.318125)scale(0.12 -0.12)\">\n     <use xlink:href=\"#DejaVuSans-97\"/>\n     <use x=\"61.279297\" xlink:href=\"#DejaVuSans-118\"/>\n     <use x=\"120.458984\" xlink:href=\"#DejaVuSans-101\"/>\n     <use x=\"181.982422\" xlink:href=\"#DejaVuSans-114\"/>\n     <use x=\"223.095703\" xlink:href=\"#DejaVuSans-97\"/>\n     <use x=\"284.375\" xlink:href=\"#DejaVuSans-103\"/>\n     <use x=\"347.851562\" xlink:href=\"#DejaVuSans-101\"/>\n     <use x=\"409.375\" xlink:href=\"#DejaVuSans-32\"/>\n     <use x=\"441.162109\" xlink:href=\"#DejaVuSans-111\"/>\n     <use x=\"502.34375\" xlink:href=\"#DejaVuSans-102\"/>\n     <use x=\"537.548828\" xlink:href=\"#DejaVuSans-32\"/>\n     <use x=\"569.335938\" xlink:href=\"#DejaVuSans-116\"/>\n     <use x=\"608.544922\" xlink:href=\"#DejaVuSans-105\"/>\n     <use x=\"636.328125\" xlink:href=\"#DejaVuSans-109\"/>\n     <use x=\"733.740234\" xlink:href=\"#DejaVuSans-101\"/>\n     <use x=\"795.263672\" xlink:href=\"#DejaVuSans-32\"/>\n     <use x=\"827.050781\" xlink:href=\"#DejaVuSans-116\"/>\n     <use x=\"866.259766\" xlink:href=\"#DejaVuSans-114\"/>\n     <use x=\"907.373047\" xlink:href=\"#DejaVuSans-97\"/>\n     <use x=\"968.652344\" xlink:href=\"#DejaVuSans-105\"/>\n     <use x=\"996.435547\" xlink:href=\"#DejaVuSans-110\"/>\n     <use x=\"1059.814453\" xlink:href=\"#DejaVuSans-32\"/>\n     <use x=\"1091.601562\" xlink:href=\"#DejaVuSans-100\"/>\n     <use x=\"1155.078125\" xlink:href=\"#DejaVuSans-105\"/>\n     <use x=\"1182.861328\" xlink:href=\"#DejaVuSans-102\"/>\n     <use x=\"1218.066406\" xlink:href=\"#DejaVuSans-102\"/>\n     <use x=\"1253.271484\" xlink:href=\"#DejaVuSans-101\"/>\n     <use x=\"1314.794922\" xlink:href=\"#DejaVuSans-114\"/>\n     <use x=\"1353.658203\" xlink:href=\"#DejaVuSans-101\"/>\n     <use x=\"1415.181641\" xlink:href=\"#DejaVuSans-110\"/>\n     <use x=\"1478.560547\" xlink:href=\"#DejaVuSans-116\"/>\n     <use x=\"1517.769531\" xlink:href=\"#DejaVuSans-32\"/>\n     <use x=\"1549.556641\" xlink:href=\"#DejaVuSans-97\"/>\n     <use x=\"1610.835938\" xlink:href=\"#DejaVuSans-99\"/>\n     <use x=\"1665.816406\" xlink:href=\"#DejaVuSans-116\"/>\n     <use x=\"1705.025391\" xlink:href=\"#DejaVuSans-105\"/>\n     <use x=\"1732.808594\" xlink:href=\"#DejaVuSans-118\"/>\n     <use x=\"1791.988281\" xlink:href=\"#DejaVuSans-97\"/>\n     <use x=\"1853.267578\" xlink:href=\"#DejaVuSans-116\"/>\n     <use x=\"1892.476562\" xlink:href=\"#DejaVuSans-105\"/>\n     <use x=\"1920.259766\" xlink:href=\"#DejaVuSans-111\"/>\n     <use x=\"1981.441406\" xlink:href=\"#DejaVuSans-110\"/>\n     <use x=\"2044.820312\" xlink:href=\"#DejaVuSans-32\"/>\n     <use x=\"2076.607422\" xlink:href=\"#DejaVuSans-102\"/>\n     <use x=\"2111.8125\" xlink:href=\"#DejaVuSans-117\"/>\n     <use x=\"2175.191406\" xlink:href=\"#DejaVuSans-110\"/>\n     <use x=\"2238.570312\" xlink:href=\"#DejaVuSans-99\"/>\n     <use x=\"2293.550781\" xlink:href=\"#DejaVuSans-116\"/>\n     <use x=\"2332.759766\" xlink:href=\"#DejaVuSans-105\"/>\n     <use x=\"2360.542969\" xlink:href=\"#DejaVuSans-111\"/>\n     <use x=\"2421.724609\" xlink:href=\"#DejaVuSans-110\"/>\n    </g>\n   </g>\n  </g>\n </g>\n <defs>\n  <clipPath id=\"pa8e122ec12\">\n   <rect height=\"217.44\" width=\"334.8\" x=\"67.2\" y=\"22.318125\"/>\n  </clipPath>\n </defs>\n</svg>\n",
      "image/png": "[encoded data removed]"
     },
     "metadata": {
      "needs_background": "light"
     }
    }
   ]
  },
  {
   "source": [
    "Z wykresu wyżej wynika, ze mimalnie najkrótszy czas wykonania ma funkcja relu, która możemy uznać za najlepszą funkcje dla naszego modelu. Jednakże, czas treniowanie jest bardzo slabo metryką, poniewąż zależy ona bardzo od pracy procesora, nawet na 10-krotnej proby. Również metryka loss, która mowi nam o efektywności uczenia jest prawie taka sama dla wszytkich funkcji aktywujących. Zatem, nie ma znaczenia w naszym modelu jaką funkcje aktywującą wybierzemy.\n"
   ],
   "cell_type": "markdown",
   "metadata": {
    "pycharm": {
     "name": "#%% md\n"
    }
   }
  }
 ],
 "metadata": {
  "kernelspec": {
   "display_name": "Python 3",
   "language": "python",
   "name": "python3"
  },
  "language_info": {
   "codemirror_mode": {
    "name": "ipython",
    "version": 2
   },
   "file_extension": ".py",
   "mimetype": "text/x-python",
   "name": "python",
   "nbconvert_exporter": "python",
   "pygments_lexer": "ipython2",
   "version": "3.8.3-final"
  }
 },
 "nbformat": 4,
 "nbformat_minor": 0
}