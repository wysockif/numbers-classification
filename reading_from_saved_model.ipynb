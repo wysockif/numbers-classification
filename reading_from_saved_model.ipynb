{
 "cells": [
  {
   "cell_type": "code",
   "execution_count": 1,
   "metadata": {},
   "outputs": [
    {
     "name": "stdout",
     "output_type": "stream",
     "text": [
      "importing Jupyter notebook from basic_create_model_function.ipynb\n",
      "Trenuję: \n",
      "1875/1875 [==============================] - 2s 1ms/step - loss: 0.4725 - accuracy: 0.8659\n",
      "313/313 [==============================] - 0s 797us/step - loss: 0.1473 - accuracy: 0.9543\n",
      "1875/1875 [==============================] - 2s 1ms/step - loss: 0.1101 - accuracy: 0.9658\n",
      "313/313 [==============================] - 0s 822us/step - loss: 0.0991 - accuracy: 0.9675\n",
      "1875/1875 [==============================] - 2s 943us/step - loss: 0.0734 - accuracy: 0.9766\n",
      "313/313 [==============================] - 0s 849us/step - loss: 0.1006 - accuracy: 0.9692\n",
      "\n",
      "Trenowanie trwało: [2.6041622161865234, 2.2285921573638916, 1.860924243927002] sekund\n",
      "Loss dla danych testowych: [0.14734740555286407, 0.0990602895617485, 0.1006305143237114]\n",
      "Metryka dla danych testowych: [0.9542999863624573, 0.9674999713897705, 0.9692000150680542]\n",
      "Loss dla danych trenowanych - uczących: [0.2668256163597107, 0.11005011200904846, 0.07340832054615021]\n",
      "Metryka dla danych trenowanych - uczących: [0.9225833415985107, 0.965833306312561, 0.9765999913215637]\n",
      "Trenuję: \n",
      "1875/1875 [==============================] - 2s 984us/step - loss: 0.4683 - accuracy: 0.8618\n",
      "313/313 [==============================] - 0s 851us/step - loss: 0.1379 - accuracy: 0.9559\n",
      "1875/1875 [==============================] - 2s 1ms/step - loss: 0.1096 - accuracy: 0.9666\n",
      "313/313 [==============================] - 0s 807us/step - loss: 0.1009 - accuracy: 0.9706\n",
      "1875/1875 [==============================] - 2s 1ms/step - loss: 0.0752 - accuracy: 0.9759\n",
      "313/313 [==============================] - 0s 808us/step - loss: 0.0888 - accuracy: 0.9732\n",
      "\n",
      "Trenowanie trwało: [2.3280093669891357, 2.0310068130493164, 2.151533603668213] sekund\n",
      "Loss dla danych testowych: [0.13791999220848083, 0.100922591984272, 0.08882554620504379]\n",
      "Metryka dla danych testowych: [0.9559000134468079, 0.9706000089645386, 0.9732000231742859]\n",
      "Loss dla danych trenowanych - uczących: [0.26449763774871826, 0.10957934707403183, 0.07523158937692642]\n",
      "Metryka dla danych trenowanych - uczących: [0.9214833378791809, 0.9666333198547363, 0.9758666753768921]\n"
     ]
    }
   ],
   "source": [
    "import import_ipynb\n",
    "import basic_create_model_function as al\n",
    "import tensorflow.keras as keras\n",
    "import tensorflow as tf \n",
    "import matplotlib.pyplot as plt\n",
    "import tensorflow.keras as keras\n",
    "import tensorflow as tf\n",
    "import time\n",
    "import numpy\n",
    "import pandas as pd\n",
    "import numpy as np\n",
    "import seaborn as sns"
   ]
  },
  {
   "cell_type": "markdown",
   "metadata": {},
   "source": [
    "# Pobierzemy jeszcze raz bazę mnist, aby pokazywać z jakich \"zdjęć\" powstały dane przewidywania"
   ]
  },
  {
   "cell_type": "code",
   "execution_count": 2,
   "metadata": {},
   "outputs": [],
   "source": [
    "mnist = tf.keras.datasets.mnist\n",
    "\n",
    "(x_train, y_train),(x_test, y_test) = mnist.load_data()\n",
    "x_train = tf.keras.utils.normalize(x_train, axis=1)\n",
    "x_test = tf.keras.utils.normalize(x_test, axis=1)"
   ]
  },
  {
   "cell_type": "code",
   "execution_count": 6,
   "metadata": {},
   "outputs": [],
   "source": [
    "new_model = tf.keras.models.load_model('default_parameters.model')"
   ]
  },
  {
   "cell_type": "code",
   "execution_count": 7,
   "metadata": {},
   "outputs": [],
   "source": [
    "predictions = new_model.predict(x_test)"
   ]
  },
  {
   "cell_type": "markdown",
   "metadata": {},
   "source": [
    "Sprawdźmy kilka przewidywań:"
   ]
  },
  {
   "cell_type": "code",
   "execution_count": 18,
   "metadata": {},
   "outputs": [],
   "source": [
    "def check_correctness(predicted, tested):\n",
    "    if(predicted == tested):\n",
    "        print(\"Poprawnie sklasyfikowano\")\n",
    "    else:\n",
    "        print(\"Niepoprawnie sklasyfikowano\")"
   ]
  },
  {
   "cell_type": "code",
   "execution_count": 21,
   "metadata": {},
   "outputs": [],
   "source": [
    "def check_prediction(index):\n",
    "    print(\"Dla indeksu:\", index)\n",
    "    print(\"Klasyfikowana cyfra na 'zdjęciu' : \")\n",
    "    plt.imshow(x_test[index],cmap=plt.cm.binary)\n",
    "    plt.show()\n",
    "    print(\"Przewidywanie:\", np.argmax(predictions[index]))\n",
    "    check_correctness(np.argmax(predictions[index]), y_test[index])"
   ]
  },
  {
   "cell_type": "code",
   "execution_count": 22,
   "metadata": {},
   "outputs": [
    {
     "name": "stdout",
     "output_type": "stream",
     "text": [
      "Dla indeksu: 0\n",
      "Klasyfikowana cyfra na 'zdjęciu' : \n"
     ]
    },
    {
     "data": {
      "image/png": "[encoded data removed]",
      "text/plain": [
       "<Figure size 432x288 with 1 Axes>"
      ]
     },
     "metadata": {
      "needs_background": "light"
     },
     "output_type": "display_data"
    },
    {
     "name": "stdout",
     "output_type": "stream",
     "text": [
      "Przewidywanie: 7\n",
      "Poprawnie sklasyfikowano\n"
     ]
    }
   ],
   "source": [
    "check_prediction(0)"
   ]
  },
  {
   "cell_type": "code",
   "execution_count": 23,
   "metadata": {},
   "outputs": [
    {
     "name": "stdout",
     "output_type": "stream",
     "text": [
      "Dla indeksu: 3\n",
      "Klasyfikowana cyfra na 'zdjęciu' : \n"
     ]
    },
    {
     "data": {
      "image/png": "[encoded data removed]",
      "text/plain": [
       "<Figure size 432x288 with 1 Axes>"
      ]
     },
     "metadata": {
      "needs_background": "light"
     },
     "output_type": "display_data"
    },
    {
     "name": "stdout",
     "output_type": "stream",
     "text": [
      "Przewidywanie: 0\n",
      "Poprawnie sklasyfikowano\n"
     ]
    }
   ],
   "source": [
    "check_prediction(3)"
   ]
  },
  {
   "cell_type": "code",
   "execution_count": 24,
   "metadata": {},
   "outputs": [
    {
     "name": "stdout",
     "output_type": "stream",
     "text": [
      "Dla indeksu: 16\n",
      "Klasyfikowana cyfra na 'zdjęciu' : \n"
     ]
    },
    {
     "data": {
      "image/png": "[encoded data removed]",
      "text/plain": [
       "<Figure size 432x288 with 1 Axes>"
      ]
     },
     "metadata": {
      "needs_background": "light"
     },
     "output_type": "display_data"
    },
    {
     "name": "stdout",
     "output_type": "stream",
     "text": [
      "Przewidywanie: 9\n",
      "Poprawnie sklasyfikowano\n"
     ]
    }
   ],
   "source": [
    "check_prediction(16)"
   ]
  },
  {
   "cell_type": "code",
   "execution_count": 25,
   "metadata": {},
   "outputs": [
    {
     "name": "stdout",
     "output_type": "stream",
     "text": [
      "Dla indeksu: 12\n",
      "Klasyfikowana cyfra na 'zdjęciu' : \n"
     ]
    },
    {
     "data": {
      "image/png": "[encoded data removed]",
      "text/plain": [
       "<Figure size 432x288 with 1 Axes>"
      ]
     },
     "metadata": {
      "needs_background": "light"
     },
     "output_type": "display_data"
    },
    {
     "name": "stdout",
     "output_type": "stream",
     "text": [
      "Przewidywanie: 9\n",
      "Poprawnie sklasyfikowano\n"
     ]
    }
   ],
   "source": [
    "check_prediction(12)"
   ]
  },
  {
   "cell_type": "code",
   "execution_count": null,
   "metadata": {},
   "outputs": [],
   "source": []
  }
 ],
 "metadata": {
  "kernelspec": {
   "display_name": "Python 3.8.3 64-bit ('wysoc': virtualenv)",
   "language": "python",
   "name": "python38364bitwysocvirtualenv9e4a190ee59f4fc8960a2c4f2382dc7a"
  },
  "language_info": {
   "codemirror_mode": {
    "name": "ipython",
    "version": 3
   },
   "file_extension": ".py",
   "mimetype": "text/x-python",
   "name": "python",
   "nbconvert_exporter": "python",
   "pygments_lexer": "ipython3",
   "version": "3.8.3"
  }
 },
 "nbformat": 4,
 "nbformat_minor": 4
}
