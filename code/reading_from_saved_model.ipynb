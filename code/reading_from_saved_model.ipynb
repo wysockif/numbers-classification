{
 "cells": [
  {
   "cell_type": "code",
   "execution_count": 5,
   "metadata": {},
   "outputs": [],
   "source": [
    "import import_ipynb\n",
    "import basic_create_model_function as al\n",
    "import tensorflow.keras as keras\n",
    "import tensorflow as tf \n",
    "import matplotlib.pyplot as plt\n",
    "import tensorflow.keras as keras\n",
    "import tensorflow as tf\n",
    "import time\n",
    "import numpy\n",
    "import pandas as pd\n",
    "import numpy as np\n",
    "import seaborn as sns"
   ]
  },
  {
   "cell_type": "markdown",
   "metadata": {},
   "source": [
    "# Pobierzemy jeszcze raz bazę mnist, aby pokazywać z jakich \"zdjęć\" powstały dane przewidywania"
   ]
  },
  {
   "cell_type": "code",
   "execution_count": 6,
   "metadata": {},
   "outputs": [],
   "source": [
    "mnist = tf.keras.datasets.mnist\n",
    "\n",
    "(x_train, y_train),(x_test, y_test) = mnist.load_data()\n",
    "x_train = tf.keras.utils.normalize(x_train, axis=1)\n",
    "x_test = tf.keras.utils.normalize(x_test, axis=1)"
   ]
  },
  {
   "cell_type": "code",
   "execution_count": 7,
   "metadata": {},
   "outputs": [],
   "source": [
    "new_model = tf.keras.models.load_model('default_parameters.model')"
   ]
  },
  {
   "cell_type": "code",
   "execution_count": 8,
   "metadata": {},
   "outputs": [],
   "source": [
    "predictions = new_model.predict(x_test)"
   ]
  },
  {
   "cell_type": "markdown",
   "metadata": {},
   "source": [
    "Sprawdźmy kilka przewidywań:"
   ]
  },
  {
   "cell_type": "code",
   "execution_count": 9,
   "metadata": {},
   "outputs": [],
   "source": [
    "def check_correctness(predicted, tested):\n",
    "    if(predicted == tested):\n",
    "        print(\"Oczekiwana cyfra: \" , tested)\n",
    "        print(\"Poprawnie sklasyfikowano\")\n",
    "    else:\n",
    "        print(\"Oczekiwana cyfra: \", tested)\n",
    "        print(\"Niepoprawnie sklasyfikowano\")"
   ]
  },
  {
   "cell_type": "code",
   "execution_count": 10,
   "metadata": {},
   "outputs": [],
   "source": [
    "def check_prediction(index):\n",
    "    print(\"Dla indeksu:\", index)\n",
    "    print(\"Klasyfikowana cyfra na 'zdjęciu' : \")\n",
    "    plt.imshow(x_test[index],cmap=plt.cm.binary)\n",
    "    plt.show()\n",
    "    print(\"Przewidywanie:\", np.argmax(predictions[index]))\n",
    "    check_correctness(np.argmax(predictions[index]), y_test[index])"
   ]
  },
  {
   "cell_type": "code",
   "execution_count": 12,
   "metadata": {},
   "outputs": [
    {
     "name": "stdout",
     "output_type": "stream",
     "text": [
      "Dla indeksu: 1231\n",
      "Klasyfikowana cyfra na 'zdjęciu' : \n"
     ]
    },
    {
     "data": {
      "image/png": "[encoded data removed]",
      "text/plain": [
       "<Figure size 432x288 with 1 Axes>"
      ]
     },
     "metadata": {
      "needs_background": "light"
     },
     "output_type": "display_data"
    },
    {
     "name": "stdout",
     "output_type": "stream",
     "text": [
      "Przewidywanie: 0\n",
      "Oczekiwana cyfra:  0\n",
      "Poprawnie sklasyfikowano\n"
     ]
    }
   ],
   "source": [
    "check_prediction(1231)"
   ]
  },
  {
   "cell_type": "code",
   "execution_count": 11,
   "metadata": {},
   "outputs": [
    {
     "name": "stdout",
     "output_type": "stream",
     "text": [
      "Dla indeksu: 929\n",
      "Klasyfikowana cyfra na 'zdjęciu' : \n"
     ]
    },
    {
     "data": {
      "image/png": "[encoded data removed]",
      "text/plain": [
       "<Figure size 432x288 with 1 Axes>"
      ]
     },
     "metadata": {
      "needs_background": "light"
     },
     "output_type": "display_data"
    },
    {
     "name": "stdout",
     "output_type": "stream",
     "text": [
      "Przewidywanie: 1\n",
      "Oczekiwana cyfra:  1\n",
      "Poprawnie sklasyfikowano\n"
     ]
    }
   ],
   "source": [
    "check_prediction(929)"
   ]
  },
  {
   "cell_type": "code",
   "execution_count": 10,
   "metadata": {},
   "outputs": [
    {
     "name": "stdout",
     "output_type": "stream",
     "text": [
      "Dla indeksu: 16\n",
      "Klasyfikowana cyfra na 'zdjęciu' : \n"
     ]
    },
    {
     "data": {
      "image/png": "[encoded data removed]",
      "text/plain": [
       "<Figure size 432x288 with 1 Axes>"
      ]
     },
     "metadata": {
      "needs_background": "light"
     },
     "output_type": "display_data"
    },
    {
     "name": "stdout",
     "output_type": "stream",
     "text": [
      "Przewidywanie: 9\n",
      "Oczekiwana cyfra:  9\n",
      "Poprawnie sklasyfikowano\n"
     ]
    }
   ],
   "source": [
    "check_prediction(16)"
   ]
  },
  {
   "cell_type": "code",
   "execution_count": 25,
   "metadata": {},
   "outputs": [],
   "source": [
    "def show_wrong_classified_indexes():\n",
    "    for i in range(len(predictions)):\n",
    "        if(np.argmax(predictions[i]) != y_test[i]):\n",
    "            print(i)"
   ]
  },
  {
   "cell_type": "code",
   "execution_count": 26,
   "metadata": {},
   "outputs": [
    {
     "name": "stdout",
     "output_type": "stream",
     "text": [
      "115\n",
      "149\n",
      "247\n",
      "259\n",
      "320\n",
      "321\n",
      "444\n",
      "445\n",
      "456\n",
      "582\n",
      "583\n",
      "610\n",
      "613\n",
      "691\n",
      "707\n",
      "717\n",
      "720\n",
      "738\n",
      "740\n",
      "760\n",
      "810\n",
      "844\n",
      "846\n",
      "877\n",
      "883\n",
      "938\n",
      "947\n",
      "1014\n",
      "1039\n",
      "1112\n",
      "1114\n",
      "1147\n",
      "1156\n",
      "1166\n",
      "1173\n",
      "1178\n",
      "1182\n",
      "1184\n",
      "1194\n",
      "1226\n",
      "1232\n",
      "1242\n",
      "1247\n",
      "1253\n",
      "1260\n",
      "1289\n",
      "1290\n",
      "1299\n",
      "1319\n",
      "1326\n",
      "1328\n",
      "1337\n",
      "1393\n",
      "1414\n",
      "1433\n",
      "1494\n",
      "1500\n",
      "1522\n",
      "1530\n",
      "1531\n",
      "1549\n",
      "1581\n",
      "1600\n",
      "1609\n",
      "1611\n",
      "1681\n",
      "1722\n",
      "1751\n",
      "1754\n",
      "1790\n",
      "1850\n",
      "1878\n",
      "1901\n",
      "1913\n",
      "1938\n",
      "1941\n",
      "1984\n",
      "2004\n",
      "2043\n",
      "2044\n",
      "2053\n",
      "2070\n",
      "2093\n",
      "2098\n",
      "2109\n",
      "2118\n",
      "2125\n",
      "2130\n",
      "2135\n",
      "2148\n",
      "2162\n",
      "2174\n",
      "2189\n",
      "2266\n",
      "2272\n",
      "2293\n",
      "2299\n",
      "2369\n",
      "2387\n",
      "2406\n",
      "2414\n",
      "2433\n",
      "2454\n",
      "2462\n",
      "2488\n",
      "2607\n",
      "2610\n",
      "2618\n",
      "2635\n",
      "2648\n",
      "2654\n",
      "2720\n",
      "2730\n",
      "2758\n",
      "2771\n",
      "2896\n",
      "2907\n",
      "2939\n",
      "2952\n",
      "2953\n",
      "2995\n",
      "3073\n",
      "3117\n",
      "3167\n",
      "3289\n",
      "3330\n",
      "3384\n",
      "3405\n",
      "3457\n",
      "3503\n",
      "3520\n",
      "3549\n",
      "3558\n",
      "3559\n",
      "3597\n",
      "3604\n",
      "3629\n",
      "3681\n",
      "3702\n",
      "3726\n",
      "3730\n",
      "3751\n",
      "3780\n",
      "3796\n",
      "3808\n",
      "3811\n",
      "3817\n",
      "3818\n",
      "3838\n",
      "3906\n",
      "3941\n",
      "3943\n",
      "3995\n",
      "4065\n",
      "4075\n",
      "4078\n",
      "4176\n",
      "4224\n",
      "4248\n",
      "4289\n",
      "4294\n",
      "4306\n",
      "4313\n",
      "4350\n",
      "4369\n",
      "4435\n",
      "4477\n",
      "4497\n",
      "4500\n",
      "4536\n",
      "4601\n",
      "4615\n",
      "4639\n",
      "4656\n",
      "4731\n",
      "4740\n",
      "4743\n",
      "4807\n",
      "4814\n",
      "4823\n",
      "4860\n",
      "4861\n",
      "4874\n",
      "4876\n",
      "4879\n",
      "4880\n",
      "4886\n",
      "4942\n",
      "4950\n",
      "4956\n",
      "4978\n",
      "4981\n",
      "4990\n",
      "4995\n",
      "5046\n",
      "5078\n",
      "5086\n",
      "5140\n",
      "5173\n",
      "5331\n",
      "5409\n",
      "5457\n",
      "5600\n",
      "5611\n",
      "5642\n",
      "5676\n",
      "5734\n",
      "5749\n",
      "5835\n",
      "5882\n",
      "5887\n",
      "5888\n",
      "5926\n",
      "5936\n",
      "5937\n",
      "5955\n",
      "5973\n",
      "5997\n",
      "6023\n",
      "6035\n",
      "6045\n",
      "6059\n",
      "6173\n",
      "6347\n",
      "6391\n",
      "6400\n",
      "6426\n",
      "6480\n",
      "6505\n",
      "6555\n",
      "6560\n",
      "6571\n",
      "6574\n",
      "6577\n",
      "6597\n",
      "6625\n",
      "6651\n",
      "6740\n",
      "6755\n",
      "6761\n",
      "6769\n",
      "6783\n",
      "6796\n",
      "7216\n",
      "7249\n",
      "7268\n",
      "7338\n",
      "7434\n",
      "7451\n",
      "7511\n",
      "7876\n",
      "7886\n",
      "7915\n",
      "7921\n",
      "7928\n",
      "7945\n",
      "7991\n",
      "8047\n",
      "8059\n",
      "8091\n",
      "8094\n",
      "8255\n",
      "8277\n",
      "8293\n",
      "8325\n",
      "8362\n",
      "8408\n",
      "8410\n",
      "8522\n",
      "8527\n",
      "8607\n",
      "8952\n",
      "9009\n",
      "9015\n",
      "9019\n",
      "9024\n",
      "9128\n",
      "9211\n",
      "9280\n",
      "9385\n",
      "9450\n",
      "9530\n",
      "9587\n",
      "9634\n",
      "9664\n",
      "9679\n",
      "9700\n",
      "9716\n",
      "9726\n",
      "9728\n",
      "9729\n",
      "9738\n",
      "9745\n",
      "9749\n",
      "9764\n",
      "9768\n",
      "9770\n",
      "9779\n",
      "9792\n",
      "9808\n",
      "9811\n",
      "9839\n",
      "9863\n",
      "9867\n",
      "9892\n",
      "9941\n",
      "9943\n",
      "9944\n",
      "9947\n",
      "9982\n"
     ]
    }
   ],
   "source": [
    "show_wrong_classified_indexes()"
   ]
  },
  {
   "cell_type": "code",
   "execution_count": 12,
   "metadata": {},
   "outputs": [
    {
     "name": "stdout",
     "output_type": "stream",
     "text": [
      "Dla indeksu: 4860\n",
      "Klasyfikowana cyfra na 'zdjęciu' : \n"
     ]
    },
    {
     "data": {
      "image/png": "[encoded data removed]",
      "text/plain": [
       "<Figure size 432x288 with 1 Axes>"
      ]
     },
     "metadata": {
      "needs_background": "light"
     },
     "output_type": "display_data"
    },
    {
     "name": "stdout",
     "output_type": "stream",
     "text": [
      "Przewidywanie: 9\n",
      "Oczekiwana cyfra:  4\n",
      "Niepoprawnie sklasyfikowano\n"
     ]
    }
   ],
   "source": [
    "check_prediction(4860)"
   ]
  }
 ],
 "metadata": {
  "kernelspec": {
   "display_name": "Python 3.8.3 64-bit ('wysoc': virtualenv)",
   "language": "python",
   "name": "python38364bitwysocvirtualenv9e4a190ee59f4fc8960a2c4f2382dc7a"
  },
  "language_info": {
   "codemirror_mode": {
    "name": "ipython",
    "version": 3
   },
   "file_extension": ".py",
   "mimetype": "text/x-python",
   "name": "python",
   "nbconvert_exporter": "python",
   "pygments_lexer": "ipython3",
   "version": "3.8.3"
  }
 },
 "nbformat": 4,
 "nbformat_minor": 4
}
